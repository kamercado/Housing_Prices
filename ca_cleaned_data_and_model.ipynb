{
 "cells": [
  {
   "cell_type": "code",
   "execution_count": 1,
   "metadata": {},
   "outputs": [],
   "source": [
    "import pandas as pd\n",
    "import numpy as np\n",
    "import matplotlib.pyplot as plt\n",
    "import seaborn as sns\n",
    "from sklearn.linear_model import LogisticRegression, LinearRegression, LogisticRegressionCV\n",
    "from sklearn.model_selection import train_test_split\n",
    "import sqlalchemy\n",
    "from sqlalchemy.ext.automap import automap_base\n",
    "from sqlalchemy import create_engine\n",
    "from sqlalchemy.orm import Session\n",
    "from sklearn import metrics"
   ]
  },
  {
   "cell_type": "markdown",
   "metadata": {},
   "source": [
    "## Data Cleaning"
   ]
  },
  {
   "cell_type": "code",
   "execution_count": 2,
   "metadata": {},
   "outputs": [],
   "source": [
    "closed =pd.read_csv(\"https://final-project-data-uci-da-bootcamp.s3-us-west-2.amazonaws.com/California_Real_Estate_Raw_Data_Set.csv\")"
   ]
  },
  {
   "cell_type": "code",
   "execution_count": 3,
   "metadata": {},
   "outputs": [],
   "source": [
    "closed_df = pd.DataFrame(closed)"
   ]
  },
  {
   "cell_type": "code",
   "execution_count": 4,
   "metadata": {},
   "outputs": [],
   "source": [
    "closed_df.drop(columns = [\"Unnamed: 0\"], inplace = True)"
   ]
  },
  {
   "cell_type": "code",
   "execution_count": 5,
   "metadata": {},
   "outputs": [],
   "source": [
    "closed_df.drop(columns = [\"MLS Area\",\"MLS Area\",\"MLS\",\"BAC\",\"DOM/CDOM\",\"SLC\",\"S\",\"Sub Type\"], inplace = True)"
   ]
  },
  {
   "cell_type": "code",
   "execution_count": 6,
   "metadata": {},
   "outputs": [],
   "source": [
    "closed_df = closed_df.dropna()"
   ]
  },
  {
   "cell_type": "code",
   "execution_count": 7,
   "metadata": {},
   "outputs": [],
   "source": [
    "closed_df.rename(columns = {\"County \": \"County\"}, inplace = True)"
   ]
  },
  {
   "cell_type": "code",
   "execution_count": 8,
   "metadata": {},
   "outputs": [],
   "source": [
    "closed_df.rename(columns = {\"Contract Status Change Date\": \"Date\"}, inplace = True)"
   ]
  },
  {
   "cell_type": "code",
   "execution_count": 9,
   "metadata": {},
   "outputs": [],
   "source": [
    "closed_df.Date = pd.to_datetime(closed_df.Date, format = \"%m/%d/%y\")"
   ]
  },
  {
   "cell_type": "code",
   "execution_count": 10,
   "metadata": {},
   "outputs": [],
   "source": [
    "closed_df[['Price Per Square Foot']] = closed_df[['Price Per Square Foot']].replace('[\\$,]','',regex=True).astype(float)\n"
   ]
  },
  {
   "cell_type": "code",
   "execution_count": 11,
   "metadata": {},
   "outputs": [],
   "source": [
    "closed_df[['L/C Price']] = closed_df[['L/C Price']].replace('[\\$,]','',regex=True).astype(float)"
   ]
  },
  {
   "cell_type": "code",
   "execution_count": 12,
   "metadata": {},
   "outputs": [],
   "source": [
    "closed_df[[\"Sqft\"]] = closed_df.Sqft.str.split('/', expand=True).drop([1], axis = 1)"
   ]
  },
  {
   "cell_type": "code",
   "execution_count": 13,
   "metadata": {},
   "outputs": [],
   "source": [
    "closed_df[[\"YrBuilt\"]] = closed_df.YrBuilt.str.split('/', expand=True).drop([1], axis = 1)"
   ]
  },
  {
   "cell_type": "code",
   "execution_count": 14,
   "metadata": {},
   "outputs": [],
   "source": [
    "closed_df[[\"Bed & Bath\", \"A\", \"Attic\", \"Basement\"]] = closed_df['Br/Ba'].str.split(\",\", expand = True)\n"
   ]
  },
  {
   "cell_type": "code",
   "execution_count": 15,
   "metadata": {},
   "outputs": [],
   "source": [
    "closed_df[[\"Bed\", \"Bath\"]] = closed_df[\"Bed & Bath\"].str.split(\"/\", expand = True)"
   ]
  },
  {
   "cell_type": "code",
   "execution_count": 16,
   "metadata": {},
   "outputs": [],
   "source": [
    "closed_df.drop(columns = [\"A\"],inplace = True)"
   ]
  },
  {
   "cell_type": "code",
   "execution_count": 17,
   "metadata": {},
   "outputs": [
    {
     "data": {
      "text/plain": [
       "Index(['Listing ID', 'St#', 'St Name', 'City', 'L/C Price',\n",
       "       'Price Per Square Foot', 'Br/Ba', 'Sqft', 'YrBuilt', 'LSqft/Ac',\n",
       "       'View YN', 'Pool Private YN', 'Date', 'County', 'Bed & Bath', 'Attic',\n",
       "       'Basement', 'Bed', 'Bath'],\n",
       "      dtype='object')"
      ]
     },
     "execution_count": 17,
     "metadata": {},
     "output_type": "execute_result"
    }
   ],
   "source": [
    "closed_df.columns"
   ]
  },
  {
   "cell_type": "code",
   "execution_count": 18,
   "metadata": {},
   "outputs": [],
   "source": [
    "closed_df.drop(columns = \"Bed & Bath\", inplace = True)"
   ]
  },
  {
   "cell_type": "code",
   "execution_count": 19,
   "metadata": {},
   "outputs": [],
   "source": [
    "closed_df.rename(columns = {\"Sqft\": \"Sqft/A\"}, inplace = True)\n",
    "closed_df[[\"LSqft\", \"Ac\"]] = closed_df['LSqft/Ac'].str.split('/', expand = True).replace('[\\$,]','',regex=True).astype(float)"
   ]
  },
  {
   "cell_type": "code",
   "execution_count": 20,
   "metadata": {},
   "outputs": [],
   "source": [
    "closed_df.drop(columns = [\"St#\",\"St Name\",\"City\",\"LSqft/Ac\",\"Ac\",\"Date\"], inplace = True)"
   ]
  },
  {
   "cell_type": "code",
   "execution_count": 21,
   "metadata": {},
   "outputs": [
    {
     "data": {
      "text/plain": [
       "14"
      ]
     },
     "execution_count": 21,
     "metadata": {},
     "output_type": "execute_result"
    }
   ],
   "source": [
    "len(closed_df.columns)"
   ]
  },
  {
   "cell_type": "code",
   "execution_count": 22,
   "metadata": {},
   "outputs": [],
   "source": [
    "closed_df.rename(columns = {\"Price Per Square Foot\":\"Price_Per_Squqre_Foot\", \"Pool Private YN\":\"Private_Pool\",\"View YN\":\"View\"}, inplace = True)"
   ]
  },
  {
   "cell_type": "code",
   "execution_count": 23,
   "metadata": {},
   "outputs": [],
   "source": [
    "clean_df = closed_df"
   ]
  },
  {
   "cell_type": "code",
   "execution_count": 24,
   "metadata": {},
   "outputs": [],
   "source": [
    "clean_df.replace({\"Y\":1,\"N\":0},inplace = True)"
   ]
  },
  {
   "cell_type": "code",
   "execution_count": 25,
   "metadata": {},
   "outputs": [],
   "source": [
    "clean_df.drop(columns = [\"Br/Ba\"], inplace = True)"
   ]
  },
  {
   "cell_type": "code",
   "execution_count": 26,
   "metadata": {},
   "outputs": [],
   "source": [
    "clean_df[\"Sqft/A\"] =clean_df[\"Sqft/A\"].astype(int)"
   ]
  },
  {
   "cell_type": "code",
   "execution_count": 27,
   "metadata": {},
   "outputs": [],
   "source": [
    "clean_df.YrBuilt = clean_df.YrBuilt.astype(int)"
   ]
  },
  {
   "cell_type": "code",
   "execution_count": 28,
   "metadata": {},
   "outputs": [],
   "source": [
    "clean_df.Attic = clean_df.Attic.astype(int)"
   ]
  },
  {
   "cell_type": "code",
   "execution_count": 29,
   "metadata": {},
   "outputs": [],
   "source": [
    "clean_df.Basement = clean_df.Basement.astype(int)"
   ]
  },
  {
   "cell_type": "code",
   "execution_count": 30,
   "metadata": {},
   "outputs": [],
   "source": [
    "clean_df.Bed = clean_df.Bed.astype(int)\n",
    "clean_df.Bath = clean_df.Bath.astype(int)"
   ]
  },
  {
   "cell_type": "code",
   "execution_count": 31,
   "metadata": {},
   "outputs": [],
   "source": [
    "clean_df.drop(columns = [\"Listing ID\"], inplace = True)"
   ]
  },
  {
   "cell_type": "code",
   "execution_count": 32,
   "metadata": {},
   "outputs": [
    {
     "data": {
      "text/plain": [
       "Index(['L/C Price', 'Price_Per_Squqre_Foot', 'Sqft/A', 'YrBuilt', 'View',\n",
       "       'Private_Pool', 'County', 'Attic', 'Basement', 'Bed', 'Bath', 'LSqft'],\n",
       "      dtype='object')"
      ]
     },
     "execution_count": 32,
     "metadata": {},
     "output_type": "execute_result"
    }
   ],
   "source": [
    "clean_df.columns"
   ]
  },
  {
   "cell_type": "code",
   "execution_count": 33,
   "metadata": {},
   "outputs": [
    {
     "data": {
      "text/plain": [
       "[0        False\n",
       " 1        False\n",
       " 2        False\n",
       " 3        False\n",
       " 4        False\n",
       "          ...  \n",
       " 22104    False\n",
       " 22105    False\n",
       " 22106    False\n",
       " 22107    False\n",
       " 22108    False\n",
       " Name: County, Length: 22045, dtype: bool]"
      ]
     },
     "execution_count": 33,
     "metadata": {},
     "output_type": "execute_result"
    }
   ],
   "source": [
    "[clean_df.County == \"Riverside\"] or [clean_df.County ==  \"Los Angeles\"] or [clean-df.County == \"Orange\"]"
   ]
  },
  {
   "cell_type": "code",
   "execution_count": 34,
   "metadata": {},
   "outputs": [],
   "source": [
    "riverside = clean_df[clean_df.County == \"Riverside\"]\n",
    "los_angeles = clean_df[clean_df.County == \"Los Angeles\"]\n",
    "orange = clean_df[clean_df.County == \"Orange\"]\n"
   ]
  },
  {
   "cell_type": "code",
   "execution_count": 35,
   "metadata": {},
   "outputs": [],
   "source": [
    "CA = riverside.append(los_angeles)"
   ]
  },
  {
   "cell_type": "code",
   "execution_count": 36,
   "metadata": {},
   "outputs": [],
   "source": [
    "ca_df = CA.append(orange)"
   ]
  },
  {
   "cell_type": "code",
   "execution_count": 37,
   "metadata": {
    "scrolled": true
   },
   "outputs": [
    {
     "data": {
      "text/html": [
       "<div>\n",
       "<style scoped>\n",
       "    .dataframe tbody tr th:only-of-type {\n",
       "        vertical-align: middle;\n",
       "    }\n",
       "\n",
       "    .dataframe tbody tr th {\n",
       "        vertical-align: top;\n",
       "    }\n",
       "\n",
       "    .dataframe thead th {\n",
       "        text-align: right;\n",
       "    }\n",
       "</style>\n",
       "<table border=\"1\" class=\"dataframe\">\n",
       "  <thead>\n",
       "    <tr style=\"text-align: right;\">\n",
       "      <th></th>\n",
       "      <th>index</th>\n",
       "      <th>L/C Price</th>\n",
       "      <th>Price_Per_Squqre_Foot</th>\n",
       "      <th>Sqft/A</th>\n",
       "      <th>YrBuilt</th>\n",
       "      <th>View</th>\n",
       "      <th>Private_Pool</th>\n",
       "      <th>County</th>\n",
       "      <th>Attic</th>\n",
       "      <th>Basement</th>\n",
       "      <th>Bed</th>\n",
       "      <th>Bath</th>\n",
       "      <th>LSqft</th>\n",
       "    </tr>\n",
       "  </thead>\n",
       "  <tbody>\n",
       "    <tr>\n",
       "      <th>0</th>\n",
       "      <td>9639</td>\n",
       "      <td>234900.0</td>\n",
       "      <td>257.57</td>\n",
       "      <td>912</td>\n",
       "      <td>1922</td>\n",
       "      <td>1</td>\n",
       "      <td>0</td>\n",
       "      <td>Riverside</td>\n",
       "      <td>1</td>\n",
       "      <td>0</td>\n",
       "      <td>1</td>\n",
       "      <td>1</td>\n",
       "      <td>6970.0</td>\n",
       "    </tr>\n",
       "    <tr>\n",
       "      <th>1</th>\n",
       "      <td>9640</td>\n",
       "      <td>309900.0</td>\n",
       "      <td>295.14</td>\n",
       "      <td>1050</td>\n",
       "      <td>1977</td>\n",
       "      <td>1</td>\n",
       "      <td>0</td>\n",
       "      <td>Riverside</td>\n",
       "      <td>0</td>\n",
       "      <td>0</td>\n",
       "      <td>2</td>\n",
       "      <td>1</td>\n",
       "      <td>8712.0</td>\n",
       "    </tr>\n",
       "    <tr>\n",
       "      <th>2</th>\n",
       "      <td>9641</td>\n",
       "      <td>329500.0</td>\n",
       "      <td>208.02</td>\n",
       "      <td>1584</td>\n",
       "      <td>1974</td>\n",
       "      <td>1</td>\n",
       "      <td>0</td>\n",
       "      <td>Riverside</td>\n",
       "      <td>0</td>\n",
       "      <td>0</td>\n",
       "      <td>3</td>\n",
       "      <td>2</td>\n",
       "      <td>7405.0</td>\n",
       "    </tr>\n",
       "    <tr>\n",
       "      <th>3</th>\n",
       "      <td>9642</td>\n",
       "      <td>549900.0</td>\n",
       "      <td>286.11</td>\n",
       "      <td>1922</td>\n",
       "      <td>1980</td>\n",
       "      <td>1</td>\n",
       "      <td>0</td>\n",
       "      <td>Riverside</td>\n",
       "      <td>0</td>\n",
       "      <td>0</td>\n",
       "      <td>4</td>\n",
       "      <td>2</td>\n",
       "      <td>432115.0</td>\n",
       "    </tr>\n",
       "    <tr>\n",
       "      <th>4</th>\n",
       "      <td>9643</td>\n",
       "      <td>645000.0</td>\n",
       "      <td>173.15</td>\n",
       "      <td>3725</td>\n",
       "      <td>2006</td>\n",
       "      <td>1</td>\n",
       "      <td>0</td>\n",
       "      <td>Riverside</td>\n",
       "      <td>0</td>\n",
       "      <td>0</td>\n",
       "      <td>4</td>\n",
       "      <td>3</td>\n",
       "      <td>57064.0</td>\n",
       "    </tr>\n",
       "    <tr>\n",
       "      <th>...</th>\n",
       "      <td>...</td>\n",
       "      <td>...</td>\n",
       "      <td>...</td>\n",
       "      <td>...</td>\n",
       "      <td>...</td>\n",
       "      <td>...</td>\n",
       "      <td>...</td>\n",
       "      <td>...</td>\n",
       "      <td>...</td>\n",
       "      <td>...</td>\n",
       "      <td>...</td>\n",
       "      <td>...</td>\n",
       "      <td>...</td>\n",
       "    </tr>\n",
       "    <tr>\n",
       "      <th>12595</th>\n",
       "      <td>2631</td>\n",
       "      <td>1080000.0</td>\n",
       "      <td>322.58</td>\n",
       "      <td>3348</td>\n",
       "      <td>1969</td>\n",
       "      <td>0</td>\n",
       "      <td>1</td>\n",
       "      <td>Orange</td>\n",
       "      <td>1</td>\n",
       "      <td>0</td>\n",
       "      <td>5</td>\n",
       "      <td>3</td>\n",
       "      <td>10337.0</td>\n",
       "    </tr>\n",
       "    <tr>\n",
       "      <th>12596</th>\n",
       "      <td>2632</td>\n",
       "      <td>1175000.0</td>\n",
       "      <td>512.43</td>\n",
       "      <td>2293</td>\n",
       "      <td>1969</td>\n",
       "      <td>1</td>\n",
       "      <td>0</td>\n",
       "      <td>Orange</td>\n",
       "      <td>0</td>\n",
       "      <td>0</td>\n",
       "      <td>4</td>\n",
       "      <td>2</td>\n",
       "      <td>15300.0</td>\n",
       "    </tr>\n",
       "    <tr>\n",
       "      <th>12597</th>\n",
       "      <td>2633</td>\n",
       "      <td>1215000.0</td>\n",
       "      <td>402.72</td>\n",
       "      <td>3017</td>\n",
       "      <td>1984</td>\n",
       "      <td>0</td>\n",
       "      <td>1</td>\n",
       "      <td>Orange</td>\n",
       "      <td>1</td>\n",
       "      <td>0</td>\n",
       "      <td>4</td>\n",
       "      <td>3</td>\n",
       "      <td>11000.0</td>\n",
       "    </tr>\n",
       "    <tr>\n",
       "      <th>12598</th>\n",
       "      <td>2634</td>\n",
       "      <td>1282000.0</td>\n",
       "      <td>434.72</td>\n",
       "      <td>2949</td>\n",
       "      <td>2017</td>\n",
       "      <td>1</td>\n",
       "      <td>1</td>\n",
       "      <td>Orange</td>\n",
       "      <td>0</td>\n",
       "      <td>0</td>\n",
       "      <td>4</td>\n",
       "      <td>3</td>\n",
       "      <td>5592.0</td>\n",
       "    </tr>\n",
       "    <tr>\n",
       "      <th>12599</th>\n",
       "      <td>2635</td>\n",
       "      <td>1292500.0</td>\n",
       "      <td>431.84</td>\n",
       "      <td>2993</td>\n",
       "      <td>2001</td>\n",
       "      <td>1</td>\n",
       "      <td>0</td>\n",
       "      <td>Orange</td>\n",
       "      <td>1</td>\n",
       "      <td>0</td>\n",
       "      <td>4</td>\n",
       "      <td>2</td>\n",
       "      <td>4400.0</td>\n",
       "    </tr>\n",
       "  </tbody>\n",
       "</table>\n",
       "<p>12600 rows × 13 columns</p>\n",
       "</div>"
      ],
      "text/plain": [
       "       index  L/C Price  Price_Per_Squqre_Foot  Sqft/A  YrBuilt  View  \\\n",
       "0       9639   234900.0                 257.57     912     1922     1   \n",
       "1       9640   309900.0                 295.14    1050     1977     1   \n",
       "2       9641   329500.0                 208.02    1584     1974     1   \n",
       "3       9642   549900.0                 286.11    1922     1980     1   \n",
       "4       9643   645000.0                 173.15    3725     2006     1   \n",
       "...      ...        ...                    ...     ...      ...   ...   \n",
       "12595   2631  1080000.0                 322.58    3348     1969     0   \n",
       "12596   2632  1175000.0                 512.43    2293     1969     1   \n",
       "12597   2633  1215000.0                 402.72    3017     1984     0   \n",
       "12598   2634  1282000.0                 434.72    2949     2017     1   \n",
       "12599   2635  1292500.0                 431.84    2993     2001     1   \n",
       "\n",
       "       Private_Pool     County  Attic  Basement  Bed  Bath     LSqft  \n",
       "0                 0  Riverside      1         0    1     1    6970.0  \n",
       "1                 0  Riverside      0         0    2     1    8712.0  \n",
       "2                 0  Riverside      0         0    3     2    7405.0  \n",
       "3                 0  Riverside      0         0    4     2  432115.0  \n",
       "4                 0  Riverside      0         0    4     3   57064.0  \n",
       "...             ...        ...    ...       ...  ...   ...       ...  \n",
       "12595             1     Orange      1         0    5     3   10337.0  \n",
       "12596             0     Orange      0         0    4     2   15300.0  \n",
       "12597             1     Orange      1         0    4     3   11000.0  \n",
       "12598             1     Orange      0         0    4     3    5592.0  \n",
       "12599             0     Orange      1         0    4     2    4400.0  \n",
       "\n",
       "[12600 rows x 13 columns]"
      ]
     },
     "execution_count": 37,
     "metadata": {},
     "output_type": "execute_result"
    }
   ],
   "source": [
    "ca_df.reset_index()"
   ]
  },
  {
   "cell_type": "code",
   "execution_count": 38,
   "metadata": {},
   "outputs": [],
   "source": [
    "county_rank = ca_df.loc[:,[\"L/C Price\", \"County\"]]"
   ]
  },
  {
   "cell_type": "code",
   "execution_count": 39,
   "metadata": {},
   "outputs": [],
   "source": [
    "county_rank = county_rank.groupby(\"County\").mean()"
   ]
  },
  {
   "cell_type": "code",
   "execution_count": 40,
   "metadata": {},
   "outputs": [
    {
     "data": {
      "text/html": [
       "<div>\n",
       "<style scoped>\n",
       "    .dataframe tbody tr th:only-of-type {\n",
       "        vertical-align: middle;\n",
       "    }\n",
       "\n",
       "    .dataframe tbody tr th {\n",
       "        vertical-align: top;\n",
       "    }\n",
       "\n",
       "    .dataframe thead th {\n",
       "        text-align: right;\n",
       "    }\n",
       "</style>\n",
       "<table border=\"1\" class=\"dataframe\">\n",
       "  <thead>\n",
       "    <tr style=\"text-align: right;\">\n",
       "      <th></th>\n",
       "      <th>L/C Price</th>\n",
       "    </tr>\n",
       "    <tr>\n",
       "      <th>County</th>\n",
       "      <th></th>\n",
       "    </tr>\n",
       "  </thead>\n",
       "  <tbody>\n",
       "    <tr>\n",
       "      <th>Riverside</th>\n",
       "      <td>440979.083133</td>\n",
       "    </tr>\n",
       "    <tr>\n",
       "      <th>Los Angeles</th>\n",
       "      <td>668418.699097</td>\n",
       "    </tr>\n",
       "    <tr>\n",
       "      <th>Orange</th>\n",
       "      <td>838997.170416</td>\n",
       "    </tr>\n",
       "  </tbody>\n",
       "</table>\n",
       "</div>"
      ],
      "text/plain": [
       "                 L/C Price\n",
       "County                    \n",
       "Riverside    440979.083133\n",
       "Los Angeles  668418.699097\n",
       "Orange       838997.170416"
      ]
     },
     "execution_count": 40,
     "metadata": {},
     "output_type": "execute_result"
    }
   ],
   "source": [
    "county_rank.sort_values(by = \"L/C Price\")"
   ]
  },
  {
   "cell_type": "code",
   "execution_count": 41,
   "metadata": {},
   "outputs": [],
   "source": [
    "ca_df.replace({\"Riverside\":1, \"Los Angeles\":2, \"Orange\":3}, inplace = True)"
   ]
  },
  {
   "cell_type": "code",
   "execution_count": 42,
   "metadata": {},
   "outputs": [
    {
     "data": {
      "text/html": [
       "<div>\n",
       "<style scoped>\n",
       "    .dataframe tbody tr th:only-of-type {\n",
       "        vertical-align: middle;\n",
       "    }\n",
       "\n",
       "    .dataframe tbody tr th {\n",
       "        vertical-align: top;\n",
       "    }\n",
       "\n",
       "    .dataframe thead th {\n",
       "        text-align: right;\n",
       "    }\n",
       "</style>\n",
       "<table border=\"1\" class=\"dataframe\">\n",
       "  <thead>\n",
       "    <tr style=\"text-align: right;\">\n",
       "      <th></th>\n",
       "      <th>L/C Price</th>\n",
       "      <th>Price_Per_Squqre_Foot</th>\n",
       "      <th>Sqft/A</th>\n",
       "      <th>YrBuilt</th>\n",
       "      <th>View</th>\n",
       "      <th>Private_Pool</th>\n",
       "      <th>County</th>\n",
       "      <th>Attic</th>\n",
       "      <th>Basement</th>\n",
       "      <th>Bed</th>\n",
       "      <th>Bath</th>\n",
       "      <th>LSqft</th>\n",
       "    </tr>\n",
       "  </thead>\n",
       "  <tbody>\n",
       "    <tr>\n",
       "      <th>9639</th>\n",
       "      <td>234900.0</td>\n",
       "      <td>257.57</td>\n",
       "      <td>912</td>\n",
       "      <td>1922</td>\n",
       "      <td>1</td>\n",
       "      <td>0</td>\n",
       "      <td>1</td>\n",
       "      <td>1</td>\n",
       "      <td>0</td>\n",
       "      <td>1</td>\n",
       "      <td>1</td>\n",
       "      <td>6970.0</td>\n",
       "    </tr>\n",
       "    <tr>\n",
       "      <th>9640</th>\n",
       "      <td>309900.0</td>\n",
       "      <td>295.14</td>\n",
       "      <td>1050</td>\n",
       "      <td>1977</td>\n",
       "      <td>1</td>\n",
       "      <td>0</td>\n",
       "      <td>1</td>\n",
       "      <td>0</td>\n",
       "      <td>0</td>\n",
       "      <td>2</td>\n",
       "      <td>1</td>\n",
       "      <td>8712.0</td>\n",
       "    </tr>\n",
       "    <tr>\n",
       "      <th>9641</th>\n",
       "      <td>329500.0</td>\n",
       "      <td>208.02</td>\n",
       "      <td>1584</td>\n",
       "      <td>1974</td>\n",
       "      <td>1</td>\n",
       "      <td>0</td>\n",
       "      <td>1</td>\n",
       "      <td>0</td>\n",
       "      <td>0</td>\n",
       "      <td>3</td>\n",
       "      <td>2</td>\n",
       "      <td>7405.0</td>\n",
       "    </tr>\n",
       "    <tr>\n",
       "      <th>9642</th>\n",
       "      <td>549900.0</td>\n",
       "      <td>286.11</td>\n",
       "      <td>1922</td>\n",
       "      <td>1980</td>\n",
       "      <td>1</td>\n",
       "      <td>0</td>\n",
       "      <td>1</td>\n",
       "      <td>0</td>\n",
       "      <td>0</td>\n",
       "      <td>4</td>\n",
       "      <td>2</td>\n",
       "      <td>432115.0</td>\n",
       "    </tr>\n",
       "    <tr>\n",
       "      <th>9643</th>\n",
       "      <td>645000.0</td>\n",
       "      <td>173.15</td>\n",
       "      <td>3725</td>\n",
       "      <td>2006</td>\n",
       "      <td>1</td>\n",
       "      <td>0</td>\n",
       "      <td>1</td>\n",
       "      <td>0</td>\n",
       "      <td>0</td>\n",
       "      <td>4</td>\n",
       "      <td>3</td>\n",
       "      <td>57064.0</td>\n",
       "    </tr>\n",
       "  </tbody>\n",
       "</table>\n",
       "</div>"
      ],
      "text/plain": [
       "      L/C Price  Price_Per_Squqre_Foot  Sqft/A  YrBuilt  View  Private_Pool  \\\n",
       "9639   234900.0                 257.57     912     1922     1             0   \n",
       "9640   309900.0                 295.14    1050     1977     1             0   \n",
       "9641   329500.0                 208.02    1584     1974     1             0   \n",
       "9642   549900.0                 286.11    1922     1980     1             0   \n",
       "9643   645000.0                 173.15    3725     2006     1             0   \n",
       "\n",
       "      County  Attic  Basement  Bed  Bath     LSqft  \n",
       "9639       1      1         0    1     1    6970.0  \n",
       "9640       1      0         0    2     1    8712.0  \n",
       "9641       1      0         0    3     2    7405.0  \n",
       "9642       1      0         0    4     2  432115.0  \n",
       "9643       1      0         0    4     3   57064.0  "
      ]
     },
     "execution_count": 42,
     "metadata": {},
     "output_type": "execute_result"
    }
   ],
   "source": [
    "ca_df.head()"
   ]
  },
  {
   "cell_type": "markdown",
   "metadata": {},
   "source": [
    "## Starting the model"
   ]
  },
  {
   "cell_type": "code",
   "execution_count": 43,
   "metadata": {},
   "outputs": [],
   "source": [
    "ca_model = ca_df.reset_index()"
   ]
  },
  {
   "cell_type": "code",
   "execution_count": 44,
   "metadata": {},
   "outputs": [],
   "source": [
    "ca_model.drop(columns = 'index', inplace = True)"
   ]
  },
  {
   "cell_type": "code",
   "execution_count": 45,
   "metadata": {},
   "outputs": [
    {
     "data": {
      "text/plain": [
       "<matplotlib.axes._subplots.AxesSubplot at 0x137422278>"
      ]
     },
     "execution_count": 45,
     "metadata": {},
     "output_type": "execute_result"
    },
    {
     "data": {
      "image/png": "[encoded data removed]",
      "text/plain": [
       "<Figure size 864x864 with 2 Axes>"
      ]
     },
     "metadata": {
      "needs_background": "light"
     },
     "output_type": "display_data"
    }
   ],
   "source": [
    "ca_model\n",
    "fig = plt.figure(figsize = (12,12))\n",
    "sns.heatmap(ca_model.corr(), annot = False, vmax = 1, cmap = 'viridis', square = False)"
   ]
  },
  {
   "cell_type": "code",
   "execution_count": 46,
   "metadata": {},
   "outputs": [
    {
     "data": {
      "image/png": "[encoded data removed]",
      "text/plain": [
       "<Figure size 864x720 with 2 Axes>"
      ]
     },
     "metadata": {
      "needs_background": "light"
     },
     "output_type": "display_data"
    }
   ],
   "source": [
    "plt.figure(figsize = (12,10))\n",
    "cor = ca_model.corr()*100\n",
    "sns.heatmap(cor, annot=True, cmap=plt.cm.Reds)\n",
    "plt.show()"
   ]
  },
  {
   "cell_type": "code",
   "execution_count": 47,
   "metadata": {},
   "outputs": [
    {
     "data": {
      "text/plain": [
       "<matplotlib.axes._subplots.AxesSubplot at 0x10ed0e470>"
      ]
     },
     "execution_count": 47,
     "metadata": {},
     "output_type": "execute_result"
    },
    {
     "data": {
      "image/png": "[encoded data removed]",
      "text/plain": [
       "<Figure size 432x288 with 1 Axes>"
      ]
     },
     "metadata": {
      "needs_background": "light"
     },
     "output_type": "display_data"
    }
   ],
   "source": [
    "ca_classification = ca_model.assign(\n",
    "    price_cat = pd.qcut(\n",
    "        ca_model['L/C Price'],\n",
    "        q=3,\n",
    "        duplicates='drop',\n",
    "        labels=[0,1,2]\n",
    "    )\n",
    ")\n",
    "\n",
    "# Visualize the Split\n",
    "sns.countplot(ca_classification['price_cat'])"
   ]
  },
  {
   "cell_type": "code",
   "execution_count": 48,
   "metadata": {},
   "outputs": [
    {
     "data": {
      "text/plain": [
       "Index(['L/C Price', 'Price_Per_Squqre_Foot', 'Sqft/A', 'YrBuilt', 'View',\n",
       "       'Private_Pool', 'County', 'Attic', 'Basement', 'Bed', 'Bath', 'LSqft',\n",
       "       'price_cat'],\n",
       "      dtype='object')"
      ]
     },
     "execution_count": 48,
     "metadata": {},
     "output_type": "execute_result"
    }
   ],
   "source": [
    "ca_classification.columns"
   ]
  },
  {
   "cell_type": "code",
   "execution_count": 49,
   "metadata": {},
   "outputs": [],
   "source": [
    "y = ca_classification['L/C Price']\n",
    "X =ca_classification[['Price_Per_Squqre_Foot', 'Sqft/A', 'YrBuilt', 'View',\n",
    "       'Private_Pool', 'County', 'Attic', 'Basement', 'Bed', 'Bath', 'LSqft']]"
   ]
  },
  {
   "cell_type": "code",
   "execution_count": 50,
   "metadata": {},
   "outputs": [
    {
     "data": {
      "text/html": [
       "<div>\n",
       "<style scoped>\n",
       "    .dataframe tbody tr th:only-of-type {\n",
       "        vertical-align: middle;\n",
       "    }\n",
       "\n",
       "    .dataframe tbody tr th {\n",
       "        vertical-align: top;\n",
       "    }\n",
       "\n",
       "    .dataframe thead th {\n",
       "        text-align: right;\n",
       "    }\n",
       "</style>\n",
       "<table border=\"1\" class=\"dataframe\">\n",
       "  <thead>\n",
       "    <tr style=\"text-align: right;\">\n",
       "      <th></th>\n",
       "      <th>Price_Per_Squqre_Foot</th>\n",
       "      <th>Sqft/A</th>\n",
       "      <th>YrBuilt</th>\n",
       "      <th>View</th>\n",
       "      <th>Private_Pool</th>\n",
       "      <th>County</th>\n",
       "      <th>Attic</th>\n",
       "      <th>Basement</th>\n",
       "      <th>Bed</th>\n",
       "      <th>Bath</th>\n",
       "      <th>LSqft</th>\n",
       "    </tr>\n",
       "  </thead>\n",
       "  <tbody>\n",
       "    <tr>\n",
       "      <th>0</th>\n",
       "      <td>257.57</td>\n",
       "      <td>912</td>\n",
       "      <td>1922</td>\n",
       "      <td>1</td>\n",
       "      <td>0</td>\n",
       "      <td>1</td>\n",
       "      <td>1</td>\n",
       "      <td>0</td>\n",
       "      <td>1</td>\n",
       "      <td>1</td>\n",
       "      <td>6970.0</td>\n",
       "    </tr>\n",
       "  </tbody>\n",
       "</table>\n",
       "</div>"
      ],
      "text/plain": [
       "   Price_Per_Squqre_Foot  Sqft/A  YrBuilt  View  Private_Pool  County  Attic  \\\n",
       "0                 257.57     912     1922     1             0       1      1   \n",
       "\n",
       "   Basement  Bed  Bath   LSqft  \n",
       "0         0    1     1  6970.0  "
      ]
     },
     "execution_count": 50,
     "metadata": {},
     "output_type": "execute_result"
    }
   ],
   "source": [
    "X.head(1)"
   ]
  },
  {
   "cell_type": "code",
   "execution_count": 51,
   "metadata": {},
   "outputs": [
    {
     "data": {
      "text/plain": [
       "0    234900.0\n",
       "Name: L/C Price, dtype: float64"
      ]
     },
     "execution_count": 51,
     "metadata": {},
     "output_type": "execute_result"
    }
   ],
   "source": [
    "y.head(1)"
   ]
  },
  {
   "cell_type": "code",
   "execution_count": 52,
   "metadata": {},
   "outputs": [],
   "source": [
    "X_train, X_test, y_train, y_test = train_test_split(X, y, test_size=0.2, random_state=42)"
   ]
  },
  {
   "cell_type": "code",
   "execution_count": 53,
   "metadata": {},
   "outputs": [
    {
     "data": {
      "text/plain": [
       "(2520, 11)"
      ]
     },
     "execution_count": 53,
     "metadata": {},
     "output_type": "execute_result"
    }
   ],
   "source": [
    "X_test.shape"
   ]
  },
  {
   "cell_type": "code",
   "execution_count": 54,
   "metadata": {},
   "outputs": [
    {
     "data": {
      "text/plain": [
       "(10080, 11)"
      ]
     },
     "execution_count": 54,
     "metadata": {},
     "output_type": "execute_result"
    }
   ],
   "source": [
    "X_train.shape"
   ]
  },
  {
   "cell_type": "code",
   "execution_count": 55,
   "metadata": {},
   "outputs": [
    {
     "name": "stdout",
     "output_type": "stream",
     "text": [
      "Training Data Score: 0.8746552214273663\n",
      "Testing Data Score: 0.8627605160129335\n"
     ]
    }
   ],
   "source": [
    "regressor = LinearRegression()  \n",
    "regressor.fit(X_train, y_train)\n",
    "print(f\"Training Data Score: {regressor.score(X_train, y_train)}\")\n",
    "print(f\"Testing Data Score: {regressor.score(X_test, y_test)}\")"
   ]
  },
  {
   "cell_type": "code",
   "execution_count": 56,
   "metadata": {},
   "outputs": [
    {
     "data": {
      "text/plain": [
       "array([994771.95726824, 729721.31946613, 272826.95117134, ...,\n",
       "       544392.95174809, 503885.32850255, 869444.4798433 ])"
      ]
     },
     "execution_count": 56,
     "metadata": {},
     "output_type": "execute_result"
    }
   ],
   "source": [
    "y_pred = regressor.predict(X_test)\n",
    "y_pred"
   ]
  },
  {
   "cell_type": "code",
   "execution_count": 57,
   "metadata": {},
   "outputs": [],
   "source": [
    "df = pd.DataFrame({'Actual': y_test, 'Predicted': y_pred})\n",
    "df\n",
    "df1 = df"
   ]
  },
  {
   "cell_type": "code",
   "execution_count": 58,
   "metadata": {},
   "outputs": [
    {
     "data": {
      "text/html": [
       "<div>\n",
       "<style scoped>\n",
       "    .dataframe tbody tr th:only-of-type {\n",
       "        vertical-align: middle;\n",
       "    }\n",
       "\n",
       "    .dataframe tbody tr th {\n",
       "        vertical-align: top;\n",
       "    }\n",
       "\n",
       "    .dataframe thead th {\n",
       "        text-align: right;\n",
       "    }\n",
       "</style>\n",
       "<table border=\"1\" class=\"dataframe\">\n",
       "  <thead>\n",
       "    <tr style=\"text-align: right;\">\n",
       "      <th></th>\n",
       "      <th>Actual</th>\n",
       "      <th>Predicted</th>\n",
       "    </tr>\n",
       "  </thead>\n",
       "  <tbody>\n",
       "    <tr>\n",
       "      <th>11385</th>\n",
       "      <td>1060000.0</td>\n",
       "      <td>9.947720e+05</td>\n",
       "    </tr>\n",
       "    <tr>\n",
       "      <th>6866</th>\n",
       "      <td>775000.0</td>\n",
       "      <td>7.297213e+05</td>\n",
       "    </tr>\n",
       "    <tr>\n",
       "      <th>1323</th>\n",
       "      <td>340000.0</td>\n",
       "      <td>2.728270e+05</td>\n",
       "    </tr>\n",
       "    <tr>\n",
       "      <th>2252</th>\n",
       "      <td>410000.0</td>\n",
       "      <td>3.585231e+05</td>\n",
       "    </tr>\n",
       "    <tr>\n",
       "      <th>11277</th>\n",
       "      <td>631000.0</td>\n",
       "      <td>6.886481e+05</td>\n",
       "    </tr>\n",
       "    <tr>\n",
       "      <th>...</th>\n",
       "      <td>...</td>\n",
       "      <td>...</td>\n",
       "    </tr>\n",
       "    <tr>\n",
       "      <th>5353</th>\n",
       "      <td>1550000.0</td>\n",
       "      <td>1.209774e+06</td>\n",
       "    </tr>\n",
       "    <tr>\n",
       "      <th>4295</th>\n",
       "      <td>382500.0</td>\n",
       "      <td>3.519029e+05</td>\n",
       "    </tr>\n",
       "    <tr>\n",
       "      <th>7541</th>\n",
       "      <td>495000.0</td>\n",
       "      <td>5.443930e+05</td>\n",
       "    </tr>\n",
       "    <tr>\n",
       "      <th>6778</th>\n",
       "      <td>535000.0</td>\n",
       "      <td>5.038853e+05</td>\n",
       "    </tr>\n",
       "    <tr>\n",
       "      <th>12134</th>\n",
       "      <td>895000.0</td>\n",
       "      <td>8.694445e+05</td>\n",
       "    </tr>\n",
       "  </tbody>\n",
       "</table>\n",
       "<p>2520 rows × 2 columns</p>\n",
       "</div>"
      ],
      "text/plain": [
       "          Actual     Predicted\n",
       "11385  1060000.0  9.947720e+05\n",
       "6866    775000.0  7.297213e+05\n",
       "1323    340000.0  2.728270e+05\n",
       "2252    410000.0  3.585231e+05\n",
       "11277   631000.0  6.886481e+05\n",
       "...          ...           ...\n",
       "5353   1550000.0  1.209774e+06\n",
       "4295    382500.0  3.519029e+05\n",
       "7541    495000.0  5.443930e+05\n",
       "6778    535000.0  5.038853e+05\n",
       "12134   895000.0  8.694445e+05\n",
       "\n",
       "[2520 rows x 2 columns]"
      ]
     },
     "execution_count": 58,
     "metadata": {},
     "output_type": "execute_result"
    }
   ],
   "source": [
    "df1"
   ]
  },
  {
   "cell_type": "code",
   "execution_count": 59,
   "metadata": {},
   "outputs": [],
   "source": [
    " from sklearn.metrics import mean_squared_error"
   ]
  },
  {
   "cell_type": "code",
   "execution_count": 60,
   "metadata": {},
   "outputs": [
    {
     "data": {
      "text/plain": [
       "10732868009.704762"
      ]
     },
     "execution_count": 60,
     "metadata": {},
     "output_type": "execute_result"
    }
   ],
   "source": [
    "pattern = \"%.0f\"\n",
    "y_pred = [pattern % int(i) for i in y_pred]\n",
    "y_pred = [int(i) for i in y_pred]\n",
    "mean_squared_error(y_test, y_pred)"
   ]
  },
  {
   "cell_type": "code",
   "execution_count": 61,
   "metadata": {},
   "outputs": [
    {
     "name": "stdout",
     "output_type": "stream",
     "text": [
      "R2 Score:  0.8627605510785034\n"
     ]
    }
   ],
   "source": [
    "from sklearn.metrics import r2_score\n",
    "print('R2 Score: ', r2_score(y_test,y_pred))"
   ]
  },
  {
   "cell_type": "code",
   "execution_count": 62,
   "metadata": {},
   "outputs": [
    {
     "name": "stdout",
     "output_type": "stream",
     "text": [
      "Mean Absolute Error: 69206.26349206349\n",
      "Mean Squared Error: 10732868009.704762\n",
      "Root Mean Squared Error: 103599.55603044234\n"
     ]
    }
   ],
   "source": [
    "print('Mean Absolute Error:', metrics.mean_absolute_error(y_test, y_pred))  \n",
    "print('Mean Squared Error:', metrics.mean_squared_error(y_test, y_pred))  \n",
    "print('Root Mean Squared Error:', np.sqrt(metrics.mean_squared_error(y_test, y_pred)))"
   ]
  },
  {
   "cell_type": "markdown",
   "metadata": {},
   "source": [
    "## Saving the model to load into Flask"
   ]
  },
  {
   "cell_type": "code",
   "execution_count": 63,
   "metadata": {},
   "outputs": [],
   "source": [
    "import pickle"
   ]
  },
  {
   "cell_type": "code",
   "execution_count": 64,
   "metadata": {},
   "outputs": [],
   "source": [
    "# Saving model to disk\n",
    "pickle.dump(regressor, open('model_2.pkl','wb'))"
   ]
  },
  {
   "cell_type": "code",
   "execution_count": 65,
   "metadata": {},
   "outputs": [],
   "source": [
    "# 309900.0\t295.14\t1050\t1977\t1\t0\t1\t0\t0\t2\t1\t8712.0"
   ]
  },
  {
   "cell_type": "code",
   "execution_count": 66,
   "metadata": {},
   "outputs": [
    {
     "name": "stdout",
     "output_type": "stream",
     "text": [
      "[234266.5144085]\n"
     ]
    }
   ],
   "source": [
    "# Loading model to compare the results\n",
    "model_2 = pickle.load(open('model_2.pkl','rb'))\n",
    "print(model_2.predict([[295.14,1050,1977,1,0,1,0,0,2,1,8712.0]]))"
   ]
  },
  {
   "cell_type": "code",
   "execution_count": null,
   "metadata": {},
   "outputs": [],
   "source": []
  }
 ],
 "metadata": {
  "kernelspec": {
   "display_name": "Python 3",
   "language": "python",
   "name": "python3"
  },
  "language_info": {
   "codemirror_mode": {
    "name": "ipython",
    "version": 3
   },
   "file_extension": ".py",
   "mimetype": "text/x-python",
   "name": "python",
   "nbconvert_exporter": "python",
   "pygments_lexer": "ipython3",
   "version": "3.7.3"
  }
 },
 "nbformat": 4,
 "nbformat_minor": 2
}
