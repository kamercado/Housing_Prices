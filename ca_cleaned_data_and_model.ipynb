{
 "cells": [
  {
   "cell_type": "code",
   "execution_count": 1,
   "metadata": {},
   "outputs": [],
   "source": [
    "import pandas as pd\n",
    "import numpy as np\n",
    "import matplotlib.pyplot as plt\n",
    "import seaborn as sns\n",
    "from sklearn.linear_model import LogisticRegression, LinearRegression, LogisticRegressionCV\n",
    "from sklearn.model_selection import train_test_split\n",
    "import sqlalchemy\n",
    "from sqlalchemy.ext.automap import automap_base\n",
    "from sqlalchemy import create_engine\n",
    "from sqlalchemy.orm import Session\n",
    "from sklearn import metrics"
   ]
  },
  {
   "cell_type": "markdown",
   "metadata": {},
   "source": [
    "## Data Cleaning"
   ]
  },
  {
   "cell_type": "code",
   "execution_count": 2,
   "metadata": {},
   "outputs": [],
   "source": [
    "closed =pd.read_csv(\"https://final-project-data-uci-da-bootcamp.s3-us-west-2.amazonaws.com/California_Real_Estate_Raw_Data_Set.csv\")\n",
    "city_names = pd.read_csv(\"https://final-project-data-uci-da-bootcamp.s3-us-west-2.amazonaws.com/city_code_to_city.csv\")\n"
   ]
  },
  {
   "cell_type": "code",
   "execution_count": 3,
   "metadata": {},
   "outputs": [],
   "source": [
    "closed_df = pd.DataFrame(closed)\n",
    "city_name_df = pd.DataFrame(city_names)"
   ]
  },
  {
   "cell_type": "code",
   "execution_count": 4,
   "metadata": {},
   "outputs": [],
   "source": [
    "closed_df.drop(columns = [\"Unnamed: 0\"], inplace = True)"
   ]
  },
  {
   "cell_type": "code",
   "execution_count": 5,
   "metadata": {},
   "outputs": [],
   "source": [
    "closed_df.drop(columns = [\"MLS Area\",\"MLS Area\",\"MLS\",\"BAC\",\"DOM/CDOM\",\"SLC\",\"S\",\"Sub Type\"], inplace = True)"
   ]
  },
  {
   "cell_type": "code",
   "execution_count": 6,
   "metadata": {},
   "outputs": [],
   "source": [
    "closed_df = closed_df.dropna()"
   ]
  },
  {
   "cell_type": "code",
   "execution_count": 7,
   "metadata": {},
   "outputs": [],
   "source": [
    "closed_df.rename(columns = {\"County \": \"County\"}, inplace = True)"
   ]
  },
  {
   "cell_type": "code",
   "execution_count": 8,
   "metadata": {},
   "outputs": [],
   "source": [
    "closed_df.rename(columns = {\"Contract Status Change Date\": \"Date\"}, inplace = True)"
   ]
  },
  {
   "cell_type": "code",
   "execution_count": 9,
   "metadata": {},
   "outputs": [],
   "source": [
    "closed_df.Date = pd.to_datetime(closed_df.Date, format = \"%m/%d/%y\")"
   ]
  },
  {
   "cell_type": "code",
   "execution_count": 10,
   "metadata": {},
   "outputs": [],
   "source": [
    "closed_df[['Price Per Square Foot']] = closed_df[['Price Per Square Foot']].replace('[\\$,]','',regex=True).astype(float)\n"
   ]
  },
  {
   "cell_type": "code",
   "execution_count": 11,
   "metadata": {},
   "outputs": [],
   "source": [
    "closed_df[['L/C Price']] = closed_df[['L/C Price']].replace('[\\$,]','',regex=True).astype(float)"
   ]
  },
  {
   "cell_type": "code",
   "execution_count": 12,
   "metadata": {},
   "outputs": [],
   "source": [
    "closed_df[[\"Sqft\"]] = closed_df.Sqft.str.split('/', expand=True).drop([1], axis = 1)"
   ]
  },
  {
   "cell_type": "code",
   "execution_count": 13,
   "metadata": {},
   "outputs": [],
   "source": [
    "closed_df[[\"YrBuilt\"]] = closed_df.YrBuilt.str.split('/', expand=True).drop([1], axis = 1)"
   ]
  },
  {
   "cell_type": "code",
   "execution_count": 14,
   "metadata": {},
   "outputs": [],
   "source": [
    "closed_df[[\"Bed & Bath\", \"A\", \"Attic\", \"Basement\"]] = closed_df['Br/Ba'].str.split(\",\", expand = True)\n"
   ]
  },
  {
   "cell_type": "code",
   "execution_count": 15,
   "metadata": {},
   "outputs": [],
   "source": [
    "closed_df[[\"Bed\", \"Bath\"]] = closed_df[\"Bed & Bath\"].str.split(\"/\", expand = True)"
   ]
  },
  {
   "cell_type": "code",
   "execution_count": 16,
   "metadata": {},
   "outputs": [],
   "source": [
    "closed_df.drop(columns = [\"A\"],inplace = True)"
   ]
  },
  {
   "cell_type": "code",
   "execution_count": 17,
   "metadata": {},
   "outputs": [
    {
     "data": {
      "text/plain": [
       "Index(['Listing ID', 'St#', 'St Name', 'City', 'L/C Price',\n",
       "       'Price Per Square Foot', 'Br/Ba', 'Sqft', 'YrBuilt', 'LSqft/Ac',\n",
       "       'View YN', 'Pool Private YN', 'Date', 'County', 'Bed & Bath', 'Attic',\n",
       "       'Basement', 'Bed', 'Bath'],\n",
       "      dtype='object')"
      ]
     },
     "execution_count": 17,
     "metadata": {},
     "output_type": "execute_result"
    }
   ],
   "source": [
    "closed_df.columns"
   ]
  },
  {
   "cell_type": "code",
   "execution_count": 18,
   "metadata": {},
   "outputs": [],
   "source": [
    "closed_df.drop(columns = \"Bed & Bath\", inplace = True)"
   ]
  },
  {
   "cell_type": "code",
   "execution_count": 19,
   "metadata": {},
   "outputs": [],
   "source": [
    "closed_df.rename(columns = {\"Sqft\": \"Sqft/A\"}, inplace = True)\n",
    "closed_df[[\"LSqft\", \"Ac\"]] = closed_df['LSqft/Ac'].str.split('/', expand = True).replace('[\\$,]','',regex=True).astype(float)"
   ]
  },
  {
   "cell_type": "code",
   "execution_count": 20,
   "metadata": {},
   "outputs": [],
   "source": [
    "closed_df.drop(columns = [\"St#\",\"St Name\",\"LSqft/Ac\",\"Ac\",\"Date\"], inplace = True)"
   ]
  },
  {
   "cell_type": "code",
   "execution_count": 21,
   "metadata": {},
   "outputs": [
    {
     "data": {
      "text/plain": [
       "15"
      ]
     },
     "execution_count": 21,
     "metadata": {},
     "output_type": "execute_result"
    }
   ],
   "source": [
    "len(closed_df.columns)"
   ]
  },
  {
   "cell_type": "code",
   "execution_count": 22,
   "metadata": {},
   "outputs": [],
   "source": [
    "closed_df.rename(columns = {\"Price Per Square Foot\":\"Price_Per_Square_Foot\", \"Pool Private YN\":\"Private_Pool\",\"View YN\":\"View\"}, inplace = True)"
   ]
  },
  {
   "cell_type": "code",
   "execution_count": 23,
   "metadata": {},
   "outputs": [],
   "source": [
    "clean_df = closed_df"
   ]
  },
  {
   "cell_type": "code",
   "execution_count": 24,
   "metadata": {},
   "outputs": [],
   "source": [
    "clean_df.replace({\"Y\":1,\"N\":0},inplace = True)"
   ]
  },
  {
   "cell_type": "code",
   "execution_count": 25,
   "metadata": {},
   "outputs": [],
   "source": [
    "clean_df.drop(columns = [\"Br/Ba\"], inplace = True)"
   ]
  },
  {
   "cell_type": "code",
   "execution_count": 26,
   "metadata": {},
   "outputs": [],
   "source": [
    "clean_df.YrBuilt = clean_df.YrBuilt.astype(int)"
   ]
  },
  {
   "cell_type": "code",
   "execution_count": 27,
   "metadata": {},
   "outputs": [],
   "source": [
    "clean_df.Attic = clean_df.Attic.astype(int)"
   ]
  },
  {
   "cell_type": "code",
   "execution_count": 28,
   "metadata": {},
   "outputs": [],
   "source": [
    "clean_df.Basement = clean_df.Basement.astype(int)"
   ]
  },
  {
   "cell_type": "code",
   "execution_count": 29,
   "metadata": {},
   "outputs": [],
   "source": [
    "clean_df.Bed = clean_df.Bed.astype(int)\n",
    "clean_df.Bath = clean_df.Bath.astype(int)"
   ]
  },
  {
   "cell_type": "code",
   "execution_count": 30,
   "metadata": {},
   "outputs": [],
   "source": [
    "clean_df.drop(columns = [\"Listing ID\"], inplace = True)"
   ]
  },
  {
   "cell_type": "code",
   "execution_count": 31,
   "metadata": {},
   "outputs": [
    {
     "data": {
      "text/plain": [
       "Index(['City', 'L/C Price', 'Price_Per_Square_Foot', 'Sqft/A', 'YrBuilt',\n",
       "       'View', 'Private_Pool', 'County', 'Attic', 'Basement', 'Bed', 'Bath',\n",
       "       'LSqft'],\n",
       "      dtype='object')"
      ]
     },
     "execution_count": 31,
     "metadata": {},
     "output_type": "execute_result"
    }
   ],
   "source": [
    "clean_df.columns"
   ]
  },
  {
   "cell_type": "code",
   "execution_count": 32,
   "metadata": {},
   "outputs": [
    {
     "data": {
      "text/plain": [
       "[0        False\n",
       " 1        False\n",
       " 2        False\n",
       " 3        False\n",
       " 4        False\n",
       "          ...  \n",
       " 22104    False\n",
       " 22105    False\n",
       " 22106    False\n",
       " 22107    False\n",
       " 22108    False\n",
       " Name: County, Length: 22045, dtype: bool]"
      ]
     },
     "execution_count": 32,
     "metadata": {},
     "output_type": "execute_result"
    }
   ],
   "source": [
    "[clean_df.County == \"Riverside\"] or [clean_df.County ==  \"Los Angeles\"] or [clean-df.County == \"Orange\"]"
   ]
  },
  {
   "cell_type": "code",
   "execution_count": 33,
   "metadata": {},
   "outputs": [],
   "source": [
    "clean_df = clean_df.merge(city_name_df, left_on = \"City\", right_on = \"City_ID\", how = \"left\" )"
   ]
  },
  {
   "cell_type": "code",
   "execution_count": 34,
   "metadata": {},
   "outputs": [],
   "source": [
    "clean_df = clean_df.dropna()"
   ]
  },
  {
   "cell_type": "code",
   "execution_count": 35,
   "metadata": {},
   "outputs": [],
   "source": [
    "clean_df.drop(columns = [\"City_x\", \"City_ID\"],inplace = True)"
   ]
  },
  {
   "cell_type": "code",
   "execution_count": 36,
   "metadata": {},
   "outputs": [
    {
     "data": {
      "text/plain": [
       "Index(['L/C Price', 'Price_Per_Square_Foot', 'Sqft/A', 'YrBuilt', 'View',\n",
       "       'Private_Pool', 'County', 'Attic', 'Basement', 'Bed', 'Bath', 'LSqft',\n",
       "       'City_y'],\n",
       "      dtype='object')"
      ]
     },
     "execution_count": 36,
     "metadata": {},
     "output_type": "execute_result"
    }
   ],
   "source": [
    "clean_df.columns"
   ]
  },
  {
   "cell_type": "code",
   "execution_count": 37,
   "metadata": {},
   "outputs": [],
   "source": [
    "clean_df.rename(columns = {\"City_y\":\"City\"}, inplace = True)"
   ]
  },
  {
   "cell_type": "code",
   "execution_count": 38,
   "metadata": {},
   "outputs": [
    {
     "data": {
      "text/html": [
       "<div>\n",
       "<style scoped>\n",
       "    .dataframe tbody tr th:only-of-type {\n",
       "        vertical-align: middle;\n",
       "    }\n",
       "\n",
       "    .dataframe tbody tr th {\n",
       "        vertical-align: top;\n",
       "    }\n",
       "\n",
       "    .dataframe thead th {\n",
       "        text-align: right;\n",
       "    }\n",
       "</style>\n",
       "<table border=\"1\" class=\"dataframe\">\n",
       "  <thead>\n",
       "    <tr style=\"text-align: right;\">\n",
       "      <th></th>\n",
       "      <th>L/C Price</th>\n",
       "      <th>Price_Per_Square_Foot</th>\n",
       "      <th>Sqft/A</th>\n",
       "      <th>YrBuilt</th>\n",
       "      <th>View</th>\n",
       "      <th>Private_Pool</th>\n",
       "      <th>County</th>\n",
       "      <th>Attic</th>\n",
       "      <th>Basement</th>\n",
       "      <th>Bed</th>\n",
       "      <th>Bath</th>\n",
       "      <th>LSqft</th>\n",
       "      <th>City</th>\n",
       "    </tr>\n",
       "  </thead>\n",
       "  <tbody>\n",
       "    <tr>\n",
       "      <th>0</th>\n",
       "      <td>1070000.0</td>\n",
       "      <td>568.54</td>\n",
       "      <td>1882</td>\n",
       "      <td>1960</td>\n",
       "      <td>1</td>\n",
       "      <td>0</td>\n",
       "      <td>Orange</td>\n",
       "      <td>0</td>\n",
       "      <td>0</td>\n",
       "      <td>3</td>\n",
       "      <td>2</td>\n",
       "      <td>2938.0</td>\n",
       "      <td>Seal Beach</td>\n",
       "    </tr>\n",
       "    <tr>\n",
       "      <th>1</th>\n",
       "      <td>1299000.0</td>\n",
       "      <td>556.08</td>\n",
       "      <td>2336</td>\n",
       "      <td>1958</td>\n",
       "      <td>1</td>\n",
       "      <td>0</td>\n",
       "      <td>Orange</td>\n",
       "      <td>0</td>\n",
       "      <td>0</td>\n",
       "      <td>4</td>\n",
       "      <td>2</td>\n",
       "      <td>5880.0</td>\n",
       "      <td>Seal Beach</td>\n",
       "    </tr>\n",
       "    <tr>\n",
       "      <th>2</th>\n",
       "      <td>590000.0</td>\n",
       "      <td>490.03</td>\n",
       "      <td>1204</td>\n",
       "      <td>1957</td>\n",
       "      <td>1</td>\n",
       "      <td>0</td>\n",
       "      <td>Orange</td>\n",
       "      <td>0</td>\n",
       "      <td>0</td>\n",
       "      <td>3</td>\n",
       "      <td>2</td>\n",
       "      <td>6237.0</td>\n",
       "      <td>Stanton</td>\n",
       "    </tr>\n",
       "    <tr>\n",
       "      <th>3</th>\n",
       "      <td>679000.0</td>\n",
       "      <td>523.92</td>\n",
       "      <td>1296</td>\n",
       "      <td>1964</td>\n",
       "      <td>1</td>\n",
       "      <td>0</td>\n",
       "      <td>Orange</td>\n",
       "      <td>0</td>\n",
       "      <td>0</td>\n",
       "      <td>3</td>\n",
       "      <td>2</td>\n",
       "      <td>1584.0</td>\n",
       "      <td>Huntington Beach</td>\n",
       "    </tr>\n",
       "    <tr>\n",
       "      <th>4</th>\n",
       "      <td>715000.0</td>\n",
       "      <td>607.99</td>\n",
       "      <td>1176</td>\n",
       "      <td>1964</td>\n",
       "      <td>1</td>\n",
       "      <td>1</td>\n",
       "      <td>Orange</td>\n",
       "      <td>0</td>\n",
       "      <td>0</td>\n",
       "      <td>3</td>\n",
       "      <td>2</td>\n",
       "      <td>6675.0</td>\n",
       "      <td>Huntington Beach</td>\n",
       "    </tr>\n",
       "    <tr>\n",
       "      <th>...</th>\n",
       "      <td>...</td>\n",
       "      <td>...</td>\n",
       "      <td>...</td>\n",
       "      <td>...</td>\n",
       "      <td>...</td>\n",
       "      <td>...</td>\n",
       "      <td>...</td>\n",
       "      <td>...</td>\n",
       "      <td>...</td>\n",
       "      <td>...</td>\n",
       "      <td>...</td>\n",
       "      <td>...</td>\n",
       "      <td>...</td>\n",
       "    </tr>\n",
       "    <tr>\n",
       "      <th>19565</th>\n",
       "      <td>549999.0</td>\n",
       "      <td>254.63</td>\n",
       "      <td>2160</td>\n",
       "      <td>1958</td>\n",
       "      <td>1</td>\n",
       "      <td>0</td>\n",
       "      <td>San Bernardino</td>\n",
       "      <td>0</td>\n",
       "      <td>0</td>\n",
       "      <td>5</td>\n",
       "      <td>2</td>\n",
       "      <td>9720.0</td>\n",
       "      <td>Redlands</td>\n",
       "    </tr>\n",
       "    <tr>\n",
       "      <th>19566</th>\n",
       "      <td>699000.0</td>\n",
       "      <td>406.40</td>\n",
       "      <td>1720</td>\n",
       "      <td>1940</td>\n",
       "      <td>1</td>\n",
       "      <td>0</td>\n",
       "      <td>San Bernardino</td>\n",
       "      <td>0</td>\n",
       "      <td>0</td>\n",
       "      <td>3</td>\n",
       "      <td>2</td>\n",
       "      <td>6950.0</td>\n",
       "      <td>Redlands</td>\n",
       "    </tr>\n",
       "    <tr>\n",
       "      <th>19572</th>\n",
       "      <td>330000.0</td>\n",
       "      <td>228.22</td>\n",
       "      <td>1446</td>\n",
       "      <td>1959</td>\n",
       "      <td>1</td>\n",
       "      <td>0</td>\n",
       "      <td>San Bernardino</td>\n",
       "      <td>0</td>\n",
       "      <td>0</td>\n",
       "      <td>3</td>\n",
       "      <td>2</td>\n",
       "      <td>10260.0</td>\n",
       "      <td>Colton</td>\n",
       "    </tr>\n",
       "    <tr>\n",
       "      <th>19617</th>\n",
       "      <td>260000.0</td>\n",
       "      <td>202.33</td>\n",
       "      <td>1285</td>\n",
       "      <td>1955</td>\n",
       "      <td>1</td>\n",
       "      <td>0</td>\n",
       "      <td>San Bernardino</td>\n",
       "      <td>0</td>\n",
       "      <td>0</td>\n",
       "      <td>3</td>\n",
       "      <td>2</td>\n",
       "      <td>7504.0</td>\n",
       "      <td>Redlands</td>\n",
       "    </tr>\n",
       "    <tr>\n",
       "      <th>19631</th>\n",
       "      <td>485000.0</td>\n",
       "      <td>201.92</td>\n",
       "      <td>2402</td>\n",
       "      <td>1970</td>\n",
       "      <td>1</td>\n",
       "      <td>1</td>\n",
       "      <td>San Bernardino</td>\n",
       "      <td>0</td>\n",
       "      <td>0</td>\n",
       "      <td>5</td>\n",
       "      <td>3</td>\n",
       "      <td>8400.0</td>\n",
       "      <td>Yucaipa</td>\n",
       "    </tr>\n",
       "  </tbody>\n",
       "</table>\n",
       "<p>12625 rows × 13 columns</p>\n",
       "</div>"
      ],
      "text/plain": [
       "       L/C Price  Price_Per_Square_Foot Sqft/A  YrBuilt  View  Private_Pool  \\\n",
       "0      1070000.0                 568.54   1882     1960     1             0   \n",
       "1      1299000.0                 556.08   2336     1958     1             0   \n",
       "2       590000.0                 490.03   1204     1957     1             0   \n",
       "3       679000.0                 523.92   1296     1964     1             0   \n",
       "4       715000.0                 607.99   1176     1964     1             1   \n",
       "...          ...                    ...    ...      ...   ...           ...   \n",
       "19565   549999.0                 254.63   2160     1958     1             0   \n",
       "19566   699000.0                 406.40   1720     1940     1             0   \n",
       "19572   330000.0                 228.22   1446     1959     1             0   \n",
       "19617   260000.0                 202.33   1285     1955     1             0   \n",
       "19631   485000.0                 201.92   2402     1970     1             1   \n",
       "\n",
       "               County  Attic  Basement  Bed  Bath    LSqft              City  \n",
       "0              Orange      0         0    3     2   2938.0        Seal Beach  \n",
       "1              Orange      0         0    4     2   5880.0        Seal Beach  \n",
       "2              Orange      0         0    3     2   6237.0           Stanton  \n",
       "3              Orange      0         0    3     2   1584.0  Huntington Beach  \n",
       "4              Orange      0         0    3     2   6675.0  Huntington Beach  \n",
       "...               ...    ...       ...  ...   ...      ...               ...  \n",
       "19565  San Bernardino      0         0    5     2   9720.0          Redlands  \n",
       "19566  San Bernardino      0         0    3     2   6950.0          Redlands  \n",
       "19572  San Bernardino      0         0    3     2  10260.0            Colton  \n",
       "19617  San Bernardino      0         0    3     2   7504.0          Redlands  \n",
       "19631  San Bernardino      0         0    5     3   8400.0           Yucaipa  \n",
       "\n",
       "[12625 rows x 13 columns]"
      ]
     },
     "execution_count": 38,
     "metadata": {},
     "output_type": "execute_result"
    }
   ],
   "source": [
    "clean_df"
   ]
  },
  {
   "cell_type": "code",
   "execution_count": null,
   "metadata": {},
   "outputs": [],
   "source": []
  },
  {
   "cell_type": "code",
   "execution_count": 39,
   "metadata": {},
   "outputs": [],
   "source": [
    "riverside = clean_df[clean_df.County == \"Riverside\"]\n",
    "los_angeles = clean_df[clean_df.County == \"Los Angeles\"]\n",
    "orange = clean_df[clean_df.County == \"Orange\"]\n"
   ]
  },
  {
   "cell_type": "code",
   "execution_count": 40,
   "metadata": {},
   "outputs": [],
   "source": [
    "CA = riverside.append(los_angeles)"
   ]
  },
  {
   "cell_type": "code",
   "execution_count": 41,
   "metadata": {},
   "outputs": [],
   "source": [
    "ca_df = CA.append(orange)"
   ]
  },
  {
   "cell_type": "code",
   "execution_count": 42,
   "metadata": {
    "scrolled": true
   },
   "outputs": [
    {
     "data": {
      "text/plain": [
       "12166"
      ]
     },
     "execution_count": 42,
     "metadata": {},
     "output_type": "execute_result"
    }
   ],
   "source": [
    "ca_df.reset_index()\n",
    "len(ca_df)"
   ]
  },
  {
   "cell_type": "code",
   "execution_count": 43,
   "metadata": {},
   "outputs": [],
   "source": [
    "county_rank = ca_df.loc[:,[\"L/C Price\", \"County\"]]"
   ]
  },
  {
   "cell_type": "code",
   "execution_count": 44,
   "metadata": {},
   "outputs": [],
   "source": [
    "county_rank = county_rank.groupby(\"County\").mean()"
   ]
  },
  {
   "cell_type": "code",
   "execution_count": 45,
   "metadata": {},
   "outputs": [
    {
     "data": {
      "text/html": [
       "<div>\n",
       "<style scoped>\n",
       "    .dataframe tbody tr th:only-of-type {\n",
       "        vertical-align: middle;\n",
       "    }\n",
       "\n",
       "    .dataframe tbody tr th {\n",
       "        vertical-align: top;\n",
       "    }\n",
       "\n",
       "    .dataframe thead th {\n",
       "        text-align: right;\n",
       "    }\n",
       "</style>\n",
       "<table border=\"1\" class=\"dataframe\">\n",
       "  <thead>\n",
       "    <tr style=\"text-align: right;\">\n",
       "      <th></th>\n",
       "      <th>L/C Price</th>\n",
       "    </tr>\n",
       "    <tr>\n",
       "      <th>County</th>\n",
       "      <th></th>\n",
       "    </tr>\n",
       "  </thead>\n",
       "  <tbody>\n",
       "    <tr>\n",
       "      <th>Riverside</th>\n",
       "      <td>433577.542398</td>\n",
       "    </tr>\n",
       "    <tr>\n",
       "      <th>Los Angeles</th>\n",
       "      <td>667185.581683</td>\n",
       "    </tr>\n",
       "    <tr>\n",
       "      <th>Orange</th>\n",
       "      <td>838591.011329</td>\n",
       "    </tr>\n",
       "  </tbody>\n",
       "</table>\n",
       "</div>"
      ],
      "text/plain": [
       "                 L/C Price\n",
       "County                    \n",
       "Riverside    433577.542398\n",
       "Los Angeles  667185.581683\n",
       "Orange       838591.011329"
      ]
     },
     "execution_count": 45,
     "metadata": {},
     "output_type": "execute_result"
    }
   ],
   "source": [
    "county_rank.sort_values(by = \"L/C Price\")"
   ]
  },
  {
   "cell_type": "code",
   "execution_count": 46,
   "metadata": {},
   "outputs": [],
   "source": [
    "ca_df.replace({\"Riverside\":1, \"Los Angeles\":2, \"Orange\":3}, inplace = True)"
   ]
  },
  {
   "cell_type": "code",
   "execution_count": 47,
   "metadata": {},
   "outputs": [
    {
     "data": {
      "text/plain": [
       "array([1, 0, 2])"
      ]
     },
     "execution_count": 47,
     "metadata": {},
     "output_type": "execute_result"
    }
   ],
   "source": [
    "ca_df.Attic.unique()"
   ]
  },
  {
   "cell_type": "code",
   "execution_count": 48,
   "metadata": {},
   "outputs": [],
   "source": [
    "# ca_df.drop(columns = \"Price_Per_Square_Foot\", inplace = True)"
   ]
  },
  {
   "cell_type": "code",
   "execution_count": 49,
   "metadata": {},
   "outputs": [
    {
     "data": {
      "text/plain": [
       "236"
      ]
     },
     "execution_count": 49,
     "metadata": {},
     "output_type": "execute_result"
    }
   ],
   "source": [
    "len(ca_df.City.unique())"
   ]
  },
  {
   "cell_type": "code",
   "execution_count": 50,
   "metadata": {},
   "outputs": [],
   "source": [
    "ca_df = ca_df.loc[:,['L/C Price',\"City\", 'Price_Per_Square_Foot', 'Sqft/A', 'YrBuilt',\n",
    "       'View', 'Private_Pool', 'County', 'Attic', 'Basement', 'Bed', 'Bath',\n",
    "       'LSqft']]"
   ]
  },
  {
   "cell_type": "code",
   "execution_count": 51,
   "metadata": {},
   "outputs": [],
   "source": [
    "city_ranking = ca_df.loc[:,[\"City\",\"L/C Price\"]]"
   ]
  },
  {
   "cell_type": "code",
   "execution_count": 52,
   "metadata": {},
   "outputs": [],
   "source": [
    "city_ranking = city_ranking.groupby(\"City\").mean()"
   ]
  },
  {
   "cell_type": "code",
   "execution_count": 53,
   "metadata": {},
   "outputs": [],
   "source": [
    "city_ranking = city_ranking.sort_values(by='L/C Price', ascending=True).reset_index()"
   ]
  },
  {
   "cell_type": "code",
   "execution_count": 54,
   "metadata": {},
   "outputs": [],
   "source": [
    "city_ranking[\"city_rank\"] = city_ranking.index + 1"
   ]
  },
  {
   "cell_type": "code",
   "execution_count": 55,
   "metadata": {},
   "outputs": [
    {
     "data": {
      "text/plain": [
       "12166"
      ]
     },
     "execution_count": 55,
     "metadata": {},
     "output_type": "execute_result"
    }
   ],
   "source": [
    "len(ca_df)"
   ]
  },
  {
   "cell_type": "code",
   "execution_count": 56,
   "metadata": {},
   "outputs": [],
   "source": [
    "ca_df = ca_df.merge(city_ranking, left_on = 'City', right_on=  'City', how = \"left\")"
   ]
  },
  {
   "cell_type": "code",
   "execution_count": 57,
   "metadata": {},
   "outputs": [],
   "source": [
    "Riverside_Cities = clean_df[clean_df.County == \"Riverside\"]\n",
    "Los_Angeles_Cities = clean_df[clean_df.County == \"Los Angeles\"]\n",
    "Orange_Cities = clean_df[clean_df.County == \"Orange\"]"
   ]
  },
  {
   "cell_type": "code",
   "execution_count": 58,
   "metadata": {},
   "outputs": [],
   "source": [
    "ca_df.drop(columns = [\"City\",\"L/C Price_y\"], inplace = True)\n",
    "ca_df.rename(columns = {\"L/C Price_x\":\"L/C Price\"}, inplace = True)"
   ]
  },
  {
   "cell_type": "code",
   "execution_count": 59,
   "metadata": {},
   "outputs": [
    {
     "name": "stdout",
     "output_type": "stream",
     "text": [
      "<class 'pandas.core.frame.DataFrame'>\n",
      "Int64Index: 12166 entries, 0 to 12165\n",
      "Data columns (total 13 columns):\n",
      "L/C Price                12166 non-null float64\n",
      "Price_Per_Square_Foot    12166 non-null float64\n",
      "Sqft/A                   12166 non-null object\n",
      "YrBuilt                  12166 non-null int64\n",
      "View                     12166 non-null int64\n",
      "Private_Pool             12166 non-null int64\n",
      "County                   12166 non-null int64\n",
      "Attic                    12166 non-null int64\n",
      "Basement                 12166 non-null int64\n",
      "Bed                      12166 non-null int64\n",
      "Bath                     12166 non-null int64\n",
      "LSqft                    12166 non-null float64\n",
      "city_rank                12166 non-null int64\n",
      "dtypes: float64(3), int64(9), object(1)\n",
      "memory usage: 1.3+ MB\n"
     ]
    }
   ],
   "source": [
    "ca_df.info()"
   ]
  },
  {
   "cell_type": "markdown",
   "metadata": {},
   "source": [
    "## Starting the model"
   ]
  },
  {
   "cell_type": "code",
   "execution_count": 60,
   "metadata": {},
   "outputs": [],
   "source": [
    "ca_model = ca_df.reset_index()"
   ]
  },
  {
   "cell_type": "code",
   "execution_count": 61,
   "metadata": {},
   "outputs": [],
   "source": [
    "ca_model.drop(columns = 'index', inplace = True)"
   ]
  },
  {
   "cell_type": "code",
   "execution_count": 62,
   "metadata": {},
   "outputs": [
    {
     "data": {
      "text/plain": [
       "<matplotlib.axes._subplots.AxesSubplot at 0x1310e8d68>"
      ]
     },
     "execution_count": 62,
     "metadata": {},
     "output_type": "execute_result"
    },
    {
     "data": {
      "image/png": "[encoded data removed]",
      "text/plain": [
       "<Figure size 936x936 with 2 Axes>"
      ]
     },
     "metadata": {
      "needs_background": "light"
     },
     "output_type": "display_data"
    }
   ],
   "source": [
    "ca_model\n",
    "fig = plt.figure(figsize = (13,13))\n",
    "sns.heatmap(ca_model.corr(), annot = False, vmax = 1, cmap = 'viridis', square = False)"
   ]
  },
  {
   "cell_type": "code",
   "execution_count": 63,
   "metadata": {},
   "outputs": [
    {
     "data": {
      "image/png": "[encoded data removed]",
      "text/plain": [
       "<Figure size 864x720 with 2 Axes>"
      ]
     },
     "metadata": {
      "needs_background": "light"
     },
     "output_type": "display_data"
    }
   ],
   "source": [
    "plt.figure(figsize = (12,10))\n",
    "cor = ca_model.corr()*100\n",
    "sns.heatmap(cor, annot=True, cmap=plt.cm.Reds)\n",
    "plt.show()"
   ]
  },
  {
   "cell_type": "code",
   "execution_count": 64,
   "metadata": {},
   "outputs": [
    {
     "data": {
      "text/plain": [
       "<matplotlib.axes._subplots.AxesSubplot at 0x131996208>"
      ]
     },
     "execution_count": 64,
     "metadata": {},
     "output_type": "execute_result"
    },
    {
     "data": {
      "image/png": "[encoded data removed]",
      "text/plain": [
       "<Figure size 432x288 with 1 Axes>"
      ]
     },
     "metadata": {
      "needs_background": "light"
     },
     "output_type": "display_data"
    }
   ],
   "source": [
    "ca_classification = ca_model.assign(\n",
    "    price_cat = pd.qcut(\n",
    "        ca_model['L/C Price'],\n",
    "        q=3,\n",
    "        duplicates='drop',\n",
    "        labels=[0,1,2]\n",
    "    )\n",
    ")\n",
    "\n",
    "# Visualize the Split\n",
    "sns.countplot(ca_classification['price_cat'])"
   ]
  },
  {
   "cell_type": "code",
   "execution_count": 65,
   "metadata": {},
   "outputs": [
    {
     "data": {
      "text/plain": [
       "Index(['L/C Price', 'Price_Per_Square_Foot', 'Sqft/A', 'YrBuilt', 'View',\n",
       "       'Private_Pool', 'County', 'Attic', 'Basement', 'Bed', 'Bath', 'LSqft',\n",
       "       'city_rank', 'price_cat'],\n",
       "      dtype='object')"
      ]
     },
     "execution_count": 65,
     "metadata": {},
     "output_type": "execute_result"
    }
   ],
   "source": [
    "ca_classification.columns"
   ]
  },
  {
   "cell_type": "code",
   "execution_count": 66,
   "metadata": {},
   "outputs": [],
   "source": [
    "y = ca_classification['L/C Price']\n",
    "X =ca_classification[[\"Price_Per_Square_Foot\",\"city_rank\", 'YrBuilt', 'View',\n",
    "       'Private_Pool', 'County', 'Attic', 'Basement', 'Bed', 'Bath', 'LSqft']]"
   ]
  },
  {
   "cell_type": "code",
   "execution_count": 67,
   "metadata": {},
   "outputs": [
    {
     "data": {
      "text/html": [
       "<div>\n",
       "<style scoped>\n",
       "    .dataframe tbody tr th:only-of-type {\n",
       "        vertical-align: middle;\n",
       "    }\n",
       "\n",
       "    .dataframe tbody tr th {\n",
       "        vertical-align: top;\n",
       "    }\n",
       "\n",
       "    .dataframe thead th {\n",
       "        text-align: right;\n",
       "    }\n",
       "</style>\n",
       "<table border=\"1\" class=\"dataframe\">\n",
       "  <thead>\n",
       "    <tr style=\"text-align: right;\">\n",
       "      <th></th>\n",
       "      <th>Price_Per_Square_Foot</th>\n",
       "      <th>city_rank</th>\n",
       "      <th>YrBuilt</th>\n",
       "      <th>View</th>\n",
       "      <th>Private_Pool</th>\n",
       "      <th>County</th>\n",
       "      <th>Attic</th>\n",
       "      <th>Basement</th>\n",
       "      <th>Bed</th>\n",
       "      <th>Bath</th>\n",
       "      <th>LSqft</th>\n",
       "    </tr>\n",
       "  </thead>\n",
       "  <tbody>\n",
       "    <tr>\n",
       "      <th>0</th>\n",
       "      <td>257.57</td>\n",
       "      <td>17</td>\n",
       "      <td>1922</td>\n",
       "      <td>1</td>\n",
       "      <td>0</td>\n",
       "      <td>1</td>\n",
       "      <td>1</td>\n",
       "      <td>0</td>\n",
       "      <td>1</td>\n",
       "      <td>1</td>\n",
       "      <td>6970.0</td>\n",
       "    </tr>\n",
       "  </tbody>\n",
       "</table>\n",
       "</div>"
      ],
      "text/plain": [
       "   Price_Per_Square_Foot  city_rank  YrBuilt  View  Private_Pool  County  \\\n",
       "0                 257.57         17     1922     1             0       1   \n",
       "\n",
       "   Attic  Basement  Bed  Bath   LSqft  \n",
       "0      1         0    1     1  6970.0  "
      ]
     },
     "execution_count": 67,
     "metadata": {},
     "output_type": "execute_result"
    }
   ],
   "source": [
    "X.head(1)"
   ]
  },
  {
   "cell_type": "code",
   "execution_count": 68,
   "metadata": {},
   "outputs": [
    {
     "data": {
      "text/plain": [
       "0    234900.0\n",
       "Name: L/C Price, dtype: float64"
      ]
     },
     "execution_count": 68,
     "metadata": {},
     "output_type": "execute_result"
    }
   ],
   "source": [
    "y.head(1)"
   ]
  },
  {
   "cell_type": "code",
   "execution_count": 69,
   "metadata": {},
   "outputs": [],
   "source": [
    "X_train, X_test, y_train, y_test = train_test_split(X, y, test_size=0.2, random_state=42)"
   ]
  },
  {
   "cell_type": "code",
   "execution_count": 70,
   "metadata": {},
   "outputs": [
    {
     "data": {
      "text/plain": [
       "(2434, 11)"
      ]
     },
     "execution_count": 70,
     "metadata": {},
     "output_type": "execute_result"
    }
   ],
   "source": [
    "X_test.shape"
   ]
  },
  {
   "cell_type": "code",
   "execution_count": 71,
   "metadata": {},
   "outputs": [
    {
     "data": {
      "text/plain": [
       "(9732, 11)"
      ]
     },
     "execution_count": 71,
     "metadata": {},
     "output_type": "execute_result"
    }
   ],
   "source": [
    "X_train.shape"
   ]
  },
  {
   "cell_type": "code",
   "execution_count": 72,
   "metadata": {},
   "outputs": [],
   "source": [
    "from sklearn.ensemble import RandomForestClassifier\n",
    "from sklearn import tree\n"
   ]
  },
  {
   "cell_type": "code",
   "execution_count": 73,
   "metadata": {},
   "outputs": [],
   "source": [
    "# rf = RandomForestClassifier(n_estimators=200)"
   ]
  },
  {
   "cell_type": "code",
   "execution_count": 74,
   "metadata": {},
   "outputs": [],
   "source": [
    "#  rf = rf.fit(X_train, y_train)"
   ]
  },
  {
   "cell_type": "code",
   "execution_count": 75,
   "metadata": {},
   "outputs": [],
   "source": [
    "# rf.score(X_test, y_test) "
   ]
  },
  {
   "cell_type": "code",
   "execution_count": 76,
   "metadata": {},
   "outputs": [],
   "source": [
    "# clf = tree.DecisionTreeClassifier()\n",
    "# clf = clf.fit(X_train, y_train)\n",
    "# clf.predict(X_test)"
   ]
  },
  {
   "cell_type": "code",
   "execution_count": 77,
   "metadata": {},
   "outputs": [],
   "source": [
    "# clf.score(X_test,y_test) "
   ]
  },
  {
   "cell_type": "code",
   "execution_count": 78,
   "metadata": {},
   "outputs": [
    {
     "name": "stdout",
     "output_type": "stream",
     "text": [
      "Training Data Score: 0.7738537672984285\n",
      "Testing Data Score: 0.783726082023964\n"
     ]
    }
   ],
   "source": [
    "regressor = LinearRegression()  \n",
    "regressor.fit(X_train, y_train)\n",
    "print(f\"Training Data Score: {regressor.score(X_train, y_train)}\")\n",
    "print(f\"Testing Data Score: {regressor.score(X_test, y_test)}\")"
   ]
  },
  {
   "cell_type": "code",
   "execution_count": 79,
   "metadata": {},
   "outputs": [
    {
     "data": {
      "text/plain": [
       "array([315015.35791759, 290877.46993502, 622038.04872975, ...,\n",
       "       404799.75894444, 725023.85204242, 777085.94845354])"
      ]
     },
     "execution_count": 79,
     "metadata": {},
     "output_type": "execute_result"
    }
   ],
   "source": [
    "y_pred = regressor.predict(X_test)\n",
    "y_pred"
   ]
  },
  {
   "cell_type": "code",
   "execution_count": 80,
   "metadata": {},
   "outputs": [],
   "source": [
    "df = pd.DataFrame({'Actual': y_test, 'Predicted': y_pred})\n",
    "df\n",
    "df1 = df"
   ]
  },
  {
   "cell_type": "code",
   "execution_count": 81,
   "metadata": {},
   "outputs": [],
   "source": [
    "# df1"
   ]
  },
  {
   "cell_type": "code",
   "execution_count": 82,
   "metadata": {},
   "outputs": [],
   "source": [
    " from sklearn.metrics import mean_squared_error"
   ]
  },
  {
   "cell_type": "code",
   "execution_count": 83,
   "metadata": {},
   "outputs": [
    {
     "data": {
      "text/plain": [
       "16190489471.254725"
      ]
     },
     "execution_count": 83,
     "metadata": {},
     "output_type": "execute_result"
    }
   ],
   "source": [
    "pattern = \"%.0f\"\n",
    "y_pred = [pattern % int(i) for i in y_pred]\n",
    "y_pred = [int(i) for i in y_pred]\n",
    "mean_squared_error(y_test, y_pred)"
   ]
  },
  {
   "cell_type": "code",
   "execution_count": 84,
   "metadata": {},
   "outputs": [
    {
     "name": "stdout",
     "output_type": "stream",
     "text": [
      "R2 Score:  0.7837261613071291\n"
     ]
    }
   ],
   "source": [
    "from sklearn.metrics import r2_score\n",
    "print('R2 Score: ', r2_score(y_test,y_pred))"
   ]
  },
  {
   "cell_type": "code",
   "execution_count": 85,
   "metadata": {},
   "outputs": [
    {
     "name": "stdout",
     "output_type": "stream",
     "text": [
      "Mean Absolute Error: 92689.79950698439\n",
      "Mean Squared Error: 16190489471.254725\n",
      "Root Mean Squared Error: 127241.8542432274\n"
     ]
    }
   ],
   "source": [
    "print('Mean Absolute Error:', metrics.mean_absolute_error(y_test, y_pred))  \n",
    "print('Mean Squared Error:', metrics.mean_squared_error(y_test, y_pred))  \n",
    "print('Root Mean Squared Error:', np.sqrt(metrics.mean_squared_error(y_test, y_pred)))"
   ]
  },
  {
   "cell_type": "markdown",
   "metadata": {},
   "source": [
    "## Saving the model to load into Flask"
   ]
  },
  {
   "cell_type": "code",
   "execution_count": 86,
   "metadata": {},
   "outputs": [],
   "source": [
    "import pickle"
   ]
  },
  {
   "cell_type": "code",
   "execution_count": 87,
   "metadata": {},
   "outputs": [],
   "source": [
    "# Saving model to disk\n",
    "pickle.dump(regressor, open('ca_model.pkl','wb'))"
   ]
  },
  {
   "cell_type": "code",
   "execution_count": 88,
   "metadata": {},
   "outputs": [],
   "source": [
    "# 257.57\t19\t1922\t1\t0\t1\t1\t0\t1\t1\t6970.0"
   ]
  },
  {
   "cell_type": "code",
   "execution_count": 89,
   "metadata": {},
   "outputs": [
    {
     "name": "stdout",
     "output_type": "stream",
     "text": [
      "[161836.47637337]\n"
     ]
    }
   ],
   "source": [
    "# Loading model to compare the results\n",
    "ca_model = pickle.load(open('ca_model.pkl','rb'))\n",
    "print(ca_model.predict([[257.57,19,1922,1,0,1,1,0,1,1,6970.0]]))"
   ]
  },
  {
   "cell_type": "code",
   "execution_count": null,
   "metadata": {},
   "outputs": [],
   "source": []
  }
 ],
 "metadata": {
  "kernelspec": {
   "display_name": "Python 3",
   "language": "python",
   "name": "python3"
  },
  "language_info": {
   "codemirror_mode": {
    "name": "ipython",
    "version": 3
   },
   "file_extension": ".py",
   "mimetype": "text/x-python",
   "name": "python",
   "nbconvert_exporter": "python",
   "pygments_lexer": "ipython3",
   "version": "3.7.3"
  }
 },
 "nbformat": 4,
 "nbformat_minor": 2
}
