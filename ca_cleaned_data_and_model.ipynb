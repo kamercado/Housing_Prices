{
 "cells": [
  {
   "cell_type": "code",
   "execution_count": 1,
   "metadata": {},
   "outputs": [],
   "source": [
    "import pandas as pd\n",
    "import numpy as np\n",
    "import matplotlib.pyplot as plt\n",
    "import seaborn as sns\n",
    "from sklearn.linear_model import LogisticRegression, LinearRegression, LogisticRegressionCV\n",
    "from sklearn.model_selection import train_test_split\n",
    "import sqlalchemy\n",
    "from sqlalchemy.ext.automap import automap_base\n",
    "from sqlalchemy import create_engine\n",
    "from sqlalchemy.orm import Session\n",
    "from sklearn import metrics"
   ]
  },
  {
   "cell_type": "markdown",
   "metadata": {},
   "source": [
    "## Data Cleaning"
   ]
  },
  {
   "cell_type": "code",
   "execution_count": 2,
   "metadata": {},
   "outputs": [],
   "source": [
    "closed =pd.read_csv(\"https://final-project-data-uci-da-bootcamp.s3-us-west-2.amazonaws.com/California_Real_Estate_Raw_Data_Set.csv\")\n",
    "city_names = pd.read_csv(\"https://final-project-data-uci-da-bootcamp.s3-us-west-2.amazonaws.com/city_code_to_city.csv\")\n"
   ]
  },
  {
   "cell_type": "code",
   "execution_count": 3,
   "metadata": {},
   "outputs": [],
   "source": [
    "closed_df = pd.DataFrame(closed)\n",
    "city_name_df = pd.DataFrame(city_names)"
   ]
  },
  {
   "cell_type": "code",
   "execution_count": 4,
   "metadata": {},
   "outputs": [],
   "source": [
    "closed_df.drop(columns = [\"Unnamed: 0\"], inplace = True)"
   ]
  },
  {
   "cell_type": "code",
   "execution_count": 5,
   "metadata": {},
   "outputs": [],
   "source": [
    "pd.set_option('display.max_columns', 50)"
   ]
  },
  {
   "cell_type": "code",
   "execution_count": 6,
   "metadata": {},
   "outputs": [
    {
     "data": {
      "text/html": [
       "<div>\n",
       "<style scoped>\n",
       "    .dataframe tbody tr th:only-of-type {\n",
       "        vertical-align: middle;\n",
       "    }\n",
       "\n",
       "    .dataframe tbody tr th {\n",
       "        vertical-align: top;\n",
       "    }\n",
       "\n",
       "    .dataframe thead th {\n",
       "        text-align: right;\n",
       "    }\n",
       "</style>\n",
       "<table border=\"1\" class=\"dataframe\">\n",
       "  <thead>\n",
       "    <tr style=\"text-align: right;\">\n",
       "      <th></th>\n",
       "      <th>Listing ID</th>\n",
       "      <th>S</th>\n",
       "      <th>Sub Type</th>\n",
       "      <th>St#</th>\n",
       "      <th>St Name</th>\n",
       "      <th>City</th>\n",
       "      <th>MLS Area</th>\n",
       "      <th>SLC</th>\n",
       "      <th>L/C Price</th>\n",
       "      <th>Price Per Square Foot</th>\n",
       "      <th>Br/Ba</th>\n",
       "      <th>Sqft</th>\n",
       "      <th>YrBuilt</th>\n",
       "      <th>LSqft/Ac</th>\n",
       "      <th>DOM/CDOM</th>\n",
       "      <th>View YN</th>\n",
       "      <th>Pool Private YN</th>\n",
       "      <th>BAC</th>\n",
       "      <th>Contract Status Change Date</th>\n",
       "      <th>MLS</th>\n",
       "      <th>County</th>\n",
       "    </tr>\n",
       "  </thead>\n",
       "  <tbody>\n",
       "    <tr>\n",
       "      <th>0</th>\n",
       "      <td>PW19179972</td>\n",
       "      <td>S</td>\n",
       "      <td>SFR/D</td>\n",
       "      <td>138</td>\n",
       "      <td>11th ST</td>\n",
       "      <td>SLB</td>\n",
       "      <td>1A</td>\n",
       "      <td>STD,TRUS</td>\n",
       "      <td>$1,070,000</td>\n",
       "      <td>$568.54</td>\n",
       "      <td>3/2,0,0,0</td>\n",
       "      <td>1882/A</td>\n",
       "      <td>1960/ASR</td>\n",
       "      <td>2,938/0.0674</td>\n",
       "      <td>24/24</td>\n",
       "      <td>Y</td>\n",
       "      <td>N</td>\n",
       "      <td>12500</td>\n",
       "      <td>9/23/19</td>\n",
       "      <td>CRMLSM</td>\n",
       "      <td>Orange</td>\n",
       "    </tr>\n",
       "    <tr>\n",
       "      <th>1</th>\n",
       "      <td>PW19150297</td>\n",
       "      <td>S</td>\n",
       "      <td>SFR/D</td>\n",
       "      <td>708</td>\n",
       "      <td>Balboa DR</td>\n",
       "      <td>SLB</td>\n",
       "      <td>1A</td>\n",
       "      <td>STD</td>\n",
       "      <td>$1,299,000</td>\n",
       "      <td>$556.08</td>\n",
       "      <td>4/2,2,0,0</td>\n",
       "      <td>2336/A</td>\n",
       "      <td>1958/ASR</td>\n",
       "      <td>5,880/0.135</td>\n",
       "      <td>20/20</td>\n",
       "      <td>Y</td>\n",
       "      <td>N</td>\n",
       "      <td>3</td>\n",
       "      <td>8/16/19</td>\n",
       "      <td>CRMLSM</td>\n",
       "      <td>Orange</td>\n",
       "    </tr>\n",
       "    <tr>\n",
       "      <th>2</th>\n",
       "      <td>OC19161923</td>\n",
       "      <td>S</td>\n",
       "      <td>SFR/D</td>\n",
       "      <td>10350</td>\n",
       "      <td>Hickock RD</td>\n",
       "      <td>STAN</td>\n",
       "      <td>11</td>\n",
       "      <td>STD</td>\n",
       "      <td>$590,000</td>\n",
       "      <td>$490.03</td>\n",
       "      <td>3/2,0,0,0</td>\n",
       "      <td>1204/A</td>\n",
       "      <td>1957/ASR</td>\n",
       "      <td>6,237/0.1432</td>\n",
       "      <td>2-Feb</td>\n",
       "      <td>Y</td>\n",
       "      <td>N</td>\n",
       "      <td>2.5</td>\n",
       "      <td>8/16/19</td>\n",
       "      <td>CRMLSM</td>\n",
       "      <td>Orange</td>\n",
       "    </tr>\n",
       "    <tr>\n",
       "      <th>3</th>\n",
       "      <td>OC19194337</td>\n",
       "      <td>S</td>\n",
       "      <td>SFR/A</td>\n",
       "      <td>8222</td>\n",
       "      <td>Foxhall DR</td>\n",
       "      <td>HB</td>\n",
       "      <td>14</td>\n",
       "      <td>STD</td>\n",
       "      <td>$679,000</td>\n",
       "      <td>$523.92</td>\n",
       "      <td>3/2,0,0,0</td>\n",
       "      <td>1296/A</td>\n",
       "      <td>1964/ASR</td>\n",
       "      <td>1,584/0.0364</td>\n",
       "      <td>1-Jan</td>\n",
       "      <td>Y</td>\n",
       "      <td>N</td>\n",
       "      <td>2.5</td>\n",
       "      <td>9/17/19</td>\n",
       "      <td>CRMLSM</td>\n",
       "      <td>Orange</td>\n",
       "    </tr>\n",
       "    <tr>\n",
       "      <th>4</th>\n",
       "      <td>OC19155053</td>\n",
       "      <td>S</td>\n",
       "      <td>SFR/D</td>\n",
       "      <td>19451</td>\n",
       "      <td>Bluegill CIR</td>\n",
       "      <td>HB</td>\n",
       "      <td>14</td>\n",
       "      <td>STD</td>\n",
       "      <td>$715,000</td>\n",
       "      <td>$607.99</td>\n",
       "      <td>3/2,0,0,0</td>\n",
       "      <td>1176/A</td>\n",
       "      <td>1964/ASR</td>\n",
       "      <td>6,675/0.1532</td>\n",
       "      <td>0/0</td>\n",
       "      <td>Y</td>\n",
       "      <td>Y</td>\n",
       "      <td>1</td>\n",
       "      <td>8/15/19</td>\n",
       "      <td>CRMLSM</td>\n",
       "      <td>Orange</td>\n",
       "    </tr>\n",
       "    <tr>\n",
       "      <th>...</th>\n",
       "      <td>...</td>\n",
       "      <td>...</td>\n",
       "      <td>...</td>\n",
       "      <td>...</td>\n",
       "      <td>...</td>\n",
       "      <td>...</td>\n",
       "      <td>...</td>\n",
       "      <td>...</td>\n",
       "      <td>...</td>\n",
       "      <td>...</td>\n",
       "      <td>...</td>\n",
       "      <td>...</td>\n",
       "      <td>...</td>\n",
       "      <td>...</td>\n",
       "      <td>...</td>\n",
       "      <td>...</td>\n",
       "      <td>...</td>\n",
       "      <td>...</td>\n",
       "      <td>...</td>\n",
       "      <td>...</td>\n",
       "      <td>...</td>\n",
       "    </tr>\n",
       "    <tr>\n",
       "      <th>22104</th>\n",
       "      <td>PI19144643</td>\n",
       "      <td>K</td>\n",
       "      <td>SFR/D</td>\n",
       "      <td>768</td>\n",
       "      <td>Albanian CT</td>\n",
       "      <td>OAKD</td>\n",
       "      <td>NaN</td>\n",
       "      <td>STD</td>\n",
       "      <td>$419,000</td>\n",
       "      <td>$200.38</td>\n",
       "      <td>4/2,0,0,0</td>\n",
       "      <td>2091/A</td>\n",
       "      <td>2005/PUB</td>\n",
       "      <td>8,794/0.2019</td>\n",
       "      <td>25/25</td>\n",
       "      <td>Y</td>\n",
       "      <td>N</td>\n",
       "      <td>2.5</td>\n",
       "      <td>7/23/19</td>\n",
       "      <td>CRMLSM</td>\n",
       "      <td>Stanislaus</td>\n",
       "    </tr>\n",
       "    <tr>\n",
       "      <th>22105</th>\n",
       "      <td>OC19161713</td>\n",
       "      <td>K</td>\n",
       "      <td>SFR/D</td>\n",
       "      <td>2813</td>\n",
       "      <td>Raceway CT</td>\n",
       "      <td>RBNK</td>\n",
       "      <td>NaN</td>\n",
       "      <td>STD</td>\n",
       "      <td>$455,000</td>\n",
       "      <td>$141.13</td>\n",
       "      <td>4/3,0,0,0</td>\n",
       "      <td>3224/A</td>\n",
       "      <td>2004/PUB</td>\n",
       "      <td>5,793/0.133</td>\n",
       "      <td>23/23</td>\n",
       "      <td>N</td>\n",
       "      <td>N</td>\n",
       "      <td>2</td>\n",
       "      <td>8/1/19</td>\n",
       "      <td>CRMLSM</td>\n",
       "      <td>Stanislaus</td>\n",
       "    </tr>\n",
       "    <tr>\n",
       "      <th>22106</th>\n",
       "      <td>OC19113833</td>\n",
       "      <td>K</td>\n",
       "      <td>SFR/D</td>\n",
       "      <td>1355 E</td>\n",
       "      <td>Hawkeye AVE</td>\n",
       "      <td>TURL</td>\n",
       "      <td>NaN</td>\n",
       "      <td>STD</td>\n",
       "      <td>$498,500</td>\n",
       "      <td>$201.33</td>\n",
       "      <td>4/3,0,1,0</td>\n",
       "      <td>2476/A</td>\n",
       "      <td>1980/ASR</td>\n",
       "      <td>8,395/0.1927</td>\n",
       "      <td>37/37</td>\n",
       "      <td>Y</td>\n",
       "      <td>Y</td>\n",
       "      <td>2.5</td>\n",
       "      <td>6/21/19</td>\n",
       "      <td>CRMLSM</td>\n",
       "      <td>Stanislaus</td>\n",
       "    </tr>\n",
       "    <tr>\n",
       "      <th>22107</th>\n",
       "      <td>MC19159892</td>\n",
       "      <td>K</td>\n",
       "      <td>SFR/D</td>\n",
       "      <td>2992</td>\n",
       "      <td>Essie PL</td>\n",
       "      <td>MODE</td>\n",
       "      <td>699</td>\n",
       "      <td>STD</td>\n",
       "      <td>$449,990</td>\n",
       "      <td>$147.68</td>\n",
       "      <td>5/3,0,1,0</td>\n",
       "      <td>3047/A</td>\n",
       "      <td>2006/ASR</td>\n",
       "      <td>5,979/0.1373</td>\n",
       "      <td>21/21</td>\n",
       "      <td>N</td>\n",
       "      <td>N</td>\n",
       "      <td>2.5</td>\n",
       "      <td>7/29/19</td>\n",
       "      <td>CRMLSM</td>\n",
       "      <td>Stanislaus</td>\n",
       "    </tr>\n",
       "    <tr>\n",
       "      <th>22108</th>\n",
       "      <td>MC19206611</td>\n",
       "      <td>W</td>\n",
       "      <td>SFR/D</td>\n",
       "      <td>1406</td>\n",
       "      <td>Faustina AVE</td>\n",
       "      <td>MODE</td>\n",
       "      <td>NaN</td>\n",
       "      <td>STD</td>\n",
       "      <td>$233,000</td>\n",
       "      <td>$232.77</td>\n",
       "      <td>2/1,0,0,0</td>\n",
       "      <td>1001/A</td>\n",
       "      <td>1935/ASR</td>\n",
       "      <td>6,250/0.1435</td>\n",
       "      <td>8-Aug</td>\n",
       "      <td>Y</td>\n",
       "      <td>N</td>\n",
       "      <td>2.5</td>\n",
       "      <td>9/5/19</td>\n",
       "      <td>CRMLSM</td>\n",
       "      <td>Stanislaus</td>\n",
       "    </tr>\n",
       "  </tbody>\n",
       "</table>\n",
       "<p>22109 rows × 21 columns</p>\n",
       "</div>"
      ],
      "text/plain": [
       "       Listing ID  S Sub Type     St#         St Name  City MLS Area  \\\n",
       "0      PW19179972  S    SFR/D     138       11th ST     SLB       1A   \n",
       "1      PW19150297  S    SFR/D     708     Balboa DR     SLB       1A   \n",
       "2      OC19161923  S    SFR/D   10350    Hickock RD    STAN       11   \n",
       "3      OC19194337  S    SFR/A    8222    Foxhall DR      HB       14   \n",
       "4      OC19155053  S    SFR/D   19451  Bluegill CIR      HB       14   \n",
       "...           ... ..      ...     ...             ...   ...      ...   \n",
       "22104  PI19144643  K    SFR/D     768   Albanian CT    OAKD      NaN   \n",
       "22105  OC19161713  K    SFR/D    2813    Raceway CT    RBNK      NaN   \n",
       "22106  OC19113833  K    SFR/D  1355 E   Hawkeye AVE    TURL      NaN   \n",
       "22107  MC19159892  K    SFR/D    2992      Essie PL    MODE      699   \n",
       "22108  MC19206611  W    SFR/D    1406  Faustina AVE    MODE      NaN   \n",
       "\n",
       "            SLC    L/C Price Price Per Square Foot      Br/Ba    Sqft  \\\n",
       "0      STD,TRUS  $1,070,000               $568.54   3/2,0,0,0  1882/A   \n",
       "1           STD  $1,299,000               $556.08   4/2,2,0,0  2336/A   \n",
       "2           STD    $590,000               $490.03   3/2,0,0,0  1204/A   \n",
       "3           STD    $679,000               $523.92   3/2,0,0,0  1296/A   \n",
       "4           STD    $715,000               $607.99   3/2,0,0,0  1176/A   \n",
       "...         ...          ...                   ...        ...     ...   \n",
       "22104       STD    $419,000               $200.38   4/2,0,0,0  2091/A   \n",
       "22105       STD    $455,000               $141.13   4/3,0,0,0  3224/A   \n",
       "22106       STD    $498,500               $201.33   4/3,0,1,0  2476/A   \n",
       "22107       STD    $449,990               $147.68   5/3,0,1,0  3047/A   \n",
       "22108       STD    $233,000               $232.77   2/1,0,0,0  1001/A   \n",
       "\n",
       "        YrBuilt      LSqft/Ac DOM/CDOM View YN Pool Private YN    BAC  \\\n",
       "0      1960/ASR  2,938/0.0674    24/24       Y               N  12500   \n",
       "1      1958/ASR   5,880/0.135    20/20       Y               N      3   \n",
       "2      1957/ASR  6,237/0.1432    2-Feb       Y               N    2.5   \n",
       "3      1964/ASR  1,584/0.0364    1-Jan       Y               N    2.5   \n",
       "4      1964/ASR  6,675/0.1532      0/0       Y               Y      1   \n",
       "...         ...           ...      ...     ...             ...    ...   \n",
       "22104  2005/PUB  8,794/0.2019    25/25       Y               N    2.5   \n",
       "22105  2004/PUB   5,793/0.133    23/23       N               N      2   \n",
       "22106  1980/ASR  8,395/0.1927    37/37       Y               Y    2.5   \n",
       "22107  2006/ASR  5,979/0.1373    21/21       N               N    2.5   \n",
       "22108  1935/ASR  6,250/0.1435    8-Aug       Y               N    2.5   \n",
       "\n",
       "      Contract Status Change Date     MLS     County   \n",
       "0                         9/23/19  CRMLSM      Orange  \n",
       "1                         8/16/19  CRMLSM      Orange  \n",
       "2                         8/16/19  CRMLSM      Orange  \n",
       "3                         9/17/19  CRMLSM      Orange  \n",
       "4                         8/15/19  CRMLSM      Orange  \n",
       "...                           ...     ...         ...  \n",
       "22104                     7/23/19  CRMLSM  Stanislaus  \n",
       "22105                      8/1/19  CRMLSM  Stanislaus  \n",
       "22106                     6/21/19  CRMLSM  Stanislaus  \n",
       "22107                     7/29/19  CRMLSM  Stanislaus  \n",
       "22108                      9/5/19  CRMLSM  Stanislaus  \n",
       "\n",
       "[22109 rows x 21 columns]"
      ]
     },
     "execution_count": 6,
     "metadata": {},
     "output_type": "execute_result"
    }
   ],
   "source": [
    "closed_df"
   ]
  },
  {
   "cell_type": "code",
   "execution_count": 7,
   "metadata": {},
   "outputs": [],
   "source": [
    "closed_df.drop(columns = [\"MLS Area\",\"MLS Area\",\"MLS\",\"BAC\",\"DOM/CDOM\",\"SLC\",\"S\",\"Sub Type\"], inplace = True)"
   ]
  },
  {
   "cell_type": "code",
   "execution_count": 8,
   "metadata": {},
   "outputs": [],
   "source": [
    "closed_df = closed_df.dropna()"
   ]
  },
  {
   "cell_type": "code",
   "execution_count": 9,
   "metadata": {},
   "outputs": [
    {
     "name": "stderr",
     "output_type": "stream",
     "text": [
      "/Users/jeremyelam/anaconda3/lib/python3.7/site-packages/pandas/core/frame.py:4238: SettingWithCopyWarning: \n",
      "A value is trying to be set on a copy of a slice from a DataFrame\n",
      "\n",
      "See the caveats in the documentation: http://pandas.pydata.org/pandas-docs/stable/user_guide/indexing.html#returning-a-view-versus-a-copy\n",
      "  return super().rename(**kwargs)\n"
     ]
    }
   ],
   "source": [
    "closed_df.rename(columns = {\"County \": \"County\"}, inplace = True)"
   ]
  },
  {
   "cell_type": "code",
   "execution_count": 10,
   "metadata": {},
   "outputs": [],
   "source": [
    "closed_df.rename(columns = {\"Contract Status Change Date\": \"Date\"}, inplace = True)"
   ]
  },
  {
   "cell_type": "code",
   "execution_count": 11,
   "metadata": {},
   "outputs": [
    {
     "name": "stderr",
     "output_type": "stream",
     "text": [
      "/Users/jeremyelam/anaconda3/lib/python3.7/site-packages/pandas/core/generic.py:5208: SettingWithCopyWarning: \n",
      "A value is trying to be set on a copy of a slice from a DataFrame.\n",
      "Try using .loc[row_indexer,col_indexer] = value instead\n",
      "\n",
      "See the caveats in the documentation: http://pandas.pydata.org/pandas-docs/stable/user_guide/indexing.html#returning-a-view-versus-a-copy\n",
      "  self[name] = value\n"
     ]
    }
   ],
   "source": [
    "closed_df.Date = pd.to_datetime(closed_df.Date, format = \"%m/%d/%y\")"
   ]
  },
  {
   "cell_type": "code",
   "execution_count": 12,
   "metadata": {},
   "outputs": [
    {
     "name": "stderr",
     "output_type": "stream",
     "text": [
      "/Users/jeremyelam/anaconda3/lib/python3.7/site-packages/pandas/core/frame.py:3509: SettingWithCopyWarning: \n",
      "A value is trying to be set on a copy of a slice from a DataFrame.\n",
      "Try using .loc[row_indexer,col_indexer] = value instead\n",
      "\n",
      "See the caveats in the documentation: http://pandas.pydata.org/pandas-docs/stable/user_guide/indexing.html#returning-a-view-versus-a-copy\n",
      "  self[k1] = value[k2]\n"
     ]
    }
   ],
   "source": [
    "closed_df[['Price Per Square Foot']] = closed_df[['Price Per Square Foot']].replace('[\\$,]','',regex=True).astype(float)\n"
   ]
  },
  {
   "cell_type": "code",
   "execution_count": 13,
   "metadata": {},
   "outputs": [],
   "source": [
    "closed_df[['L/C Price']] = closed_df[['L/C Price']].replace('[\\$,]','',regex=True).astype(float)"
   ]
  },
  {
   "cell_type": "code",
   "execution_count": 14,
   "metadata": {},
   "outputs": [],
   "source": [
    "closed_df[[\"Sqft\"]] = closed_df.Sqft.str.split('/', expand=True).drop([1], axis = 1)"
   ]
  },
  {
   "cell_type": "code",
   "execution_count": 15,
   "metadata": {},
   "outputs": [],
   "source": [
    "closed_df[[\"YrBuilt\"]] = closed_df.YrBuilt.str.split('/', expand=True).drop([1], axis = 1)"
   ]
  },
  {
   "cell_type": "code",
   "execution_count": 16,
   "metadata": {},
   "outputs": [],
   "source": [
    "closed_df[[\"Bed & Bath\", \"A\", \"Attic\", \"Basement\"]] = closed_df['Br/Ba'].str.split(\",\", expand = True)\n"
   ]
  },
  {
   "cell_type": "code",
   "execution_count": 17,
   "metadata": {},
   "outputs": [],
   "source": [
    "closed_df[[\"Bed\", \"Bath\"]] = closed_df[\"Bed & Bath\"].str.split(\"/\", expand = True)"
   ]
  },
  {
   "cell_type": "code",
   "execution_count": 18,
   "metadata": {},
   "outputs": [
    {
     "name": "stderr",
     "output_type": "stream",
     "text": [
      "/Users/jeremyelam/anaconda3/lib/python3.7/site-packages/pandas/core/frame.py:4117: SettingWithCopyWarning: \n",
      "A value is trying to be set on a copy of a slice from a DataFrame\n",
      "\n",
      "See the caveats in the documentation: http://pandas.pydata.org/pandas-docs/stable/user_guide/indexing.html#returning-a-view-versus-a-copy\n",
      "  errors=errors,\n"
     ]
    }
   ],
   "source": [
    "closed_df.drop(columns = [\"A\"],inplace = True)"
   ]
  },
  {
   "cell_type": "code",
   "execution_count": 19,
   "metadata": {},
   "outputs": [],
   "source": [
    "closed_df.drop(columns = \"Bed & Bath\", inplace = True)"
   ]
  },
  {
   "cell_type": "code",
   "execution_count": 20,
   "metadata": {},
   "outputs": [],
   "source": [
    "closed_df.rename(columns = {\"Sqft\": \"Sqft/A\"}, inplace = True)\n",
    "closed_df[[\"LSqft\", \"Ac\"]] = closed_df['LSqft/Ac'].str.split('/', expand = True).replace('[\\$,]','',regex=True).astype(float)"
   ]
  },
  {
   "cell_type": "code",
   "execution_count": 21,
   "metadata": {},
   "outputs": [],
   "source": [
    "closed_df.drop(columns = [\"St#\",\"St Name\",\"LSqft/Ac\",\"Ac\",\"Date\"], inplace = True)"
   ]
  },
  {
   "cell_type": "code",
   "execution_count": 22,
   "metadata": {},
   "outputs": [
    {
     "data": {
      "text/plain": [
       "15"
      ]
     },
     "execution_count": 22,
     "metadata": {},
     "output_type": "execute_result"
    }
   ],
   "source": [
    "len(closed_df.columns)"
   ]
  },
  {
   "cell_type": "code",
   "execution_count": 23,
   "metadata": {},
   "outputs": [],
   "source": [
    "closed_df.rename(columns = {\"Price Per Square Foot\":\"Price_Per_Square_Foot\", \"Pool Private YN\":\"Private_Pool\",\"View YN\":\"View\"}, inplace = True)"
   ]
  },
  {
   "cell_type": "code",
   "execution_count": 24,
   "metadata": {},
   "outputs": [],
   "source": [
    "clean_df = closed_df"
   ]
  },
  {
   "cell_type": "code",
   "execution_count": 25,
   "metadata": {},
   "outputs": [
    {
     "name": "stderr",
     "output_type": "stream",
     "text": [
      "/Users/jeremyelam/anaconda3/lib/python3.7/site-packages/pandas/core/frame.py:4278: SettingWithCopyWarning: \n",
      "A value is trying to be set on a copy of a slice from a DataFrame\n",
      "\n",
      "See the caveats in the documentation: http://pandas.pydata.org/pandas-docs/stable/user_guide/indexing.html#returning-a-view-versus-a-copy\n",
      "  method=method,\n"
     ]
    }
   ],
   "source": [
    "clean_df.replace({\"Y\":1,\"N\":0},inplace = True)"
   ]
  },
  {
   "cell_type": "code",
   "execution_count": 26,
   "metadata": {},
   "outputs": [],
   "source": [
    "clean_df.drop(columns = [\"Br/Ba\"], inplace = True)"
   ]
  },
  {
   "cell_type": "code",
   "execution_count": 27,
   "metadata": {},
   "outputs": [],
   "source": [
    "clean_df.YrBuilt = clean_df.YrBuilt.astype(int)"
   ]
  },
  {
   "cell_type": "code",
   "execution_count": 28,
   "metadata": {},
   "outputs": [],
   "source": [
    "clean_df.Attic = clean_df.Attic.astype(int)"
   ]
  },
  {
   "cell_type": "code",
   "execution_count": 29,
   "metadata": {},
   "outputs": [],
   "source": [
    "clean_df.Basement = clean_df.Basement.astype(int)"
   ]
  },
  {
   "cell_type": "code",
   "execution_count": 30,
   "metadata": {},
   "outputs": [],
   "source": [
    "clean_df.Bed = clean_df.Bed.astype(int)\n",
    "clean_df.Bath = clean_df.Bath.astype(int)"
   ]
  },
  {
   "cell_type": "code",
   "execution_count": 31,
   "metadata": {},
   "outputs": [],
   "source": [
    "clean_df.drop(columns = [\"Listing ID\"], inplace = True)"
   ]
  },
  {
   "cell_type": "code",
   "execution_count": 32,
   "metadata": {},
   "outputs": [
    {
     "data": {
      "text/plain": [
       "Index(['City', 'L/C Price', 'Price_Per_Square_Foot', 'Sqft/A', 'YrBuilt',\n",
       "       'View', 'Private_Pool', 'County', 'Attic', 'Basement', 'Bed', 'Bath',\n",
       "       'LSqft'],\n",
       "      dtype='object')"
      ]
     },
     "execution_count": 32,
     "metadata": {},
     "output_type": "execute_result"
    }
   ],
   "source": [
    "clean_df.columns"
   ]
  },
  {
   "cell_type": "code",
   "execution_count": 33,
   "metadata": {},
   "outputs": [
    {
     "data": {
      "text/plain": [
       "[0        False\n",
       " 1        False\n",
       " 2        False\n",
       " 3        False\n",
       " 4        False\n",
       "          ...  \n",
       " 22104    False\n",
       " 22105    False\n",
       " 22106    False\n",
       " 22107    False\n",
       " 22108    False\n",
       " Name: County, Length: 22045, dtype: bool]"
      ]
     },
     "execution_count": 33,
     "metadata": {},
     "output_type": "execute_result"
    }
   ],
   "source": [
    "[clean_df.County == \"Riverside\"] or [clean_df.County ==  \"Los Angeles\"] or [clean-df.County == \"Orange\"]"
   ]
  },
  {
   "cell_type": "code",
   "execution_count": 34,
   "metadata": {},
   "outputs": [],
   "source": [
    "clean_df = clean_df.merge(city_name_df, left_on = \"City\", right_on = \"City_ID\", how = \"left\" )"
   ]
  },
  {
   "cell_type": "code",
   "execution_count": 35,
   "metadata": {},
   "outputs": [],
   "source": [
    "clean_df = clean_df.dropna()"
   ]
  },
  {
   "cell_type": "code",
   "execution_count": 36,
   "metadata": {},
   "outputs": [],
   "source": [
    "clean_df.drop(columns = [\"City_x\", \"City_ID\"],inplace = True)"
   ]
  },
  {
   "cell_type": "code",
   "execution_count": 37,
   "metadata": {},
   "outputs": [
    {
     "data": {
      "text/plain": [
       "Index(['L/C Price', 'Price_Per_Square_Foot', 'Sqft/A', 'YrBuilt', 'View',\n",
       "       'Private_Pool', 'County', 'Attic', 'Basement', 'Bed', 'Bath', 'LSqft',\n",
       "       'City_y'],\n",
       "      dtype='object')"
      ]
     },
     "execution_count": 37,
     "metadata": {},
     "output_type": "execute_result"
    }
   ],
   "source": [
    "clean_df.columns"
   ]
  },
  {
   "cell_type": "code",
   "execution_count": 38,
   "metadata": {},
   "outputs": [],
   "source": [
    "clean_df.rename(columns = {\"City_y\":\"City\"}, inplace = True)"
   ]
  },
  {
   "cell_type": "code",
   "execution_count": 39,
   "metadata": {},
   "outputs": [
    {
     "data": {
      "text/html": [
       "<div>\n",
       "<style scoped>\n",
       "    .dataframe tbody tr th:only-of-type {\n",
       "        vertical-align: middle;\n",
       "    }\n",
       "\n",
       "    .dataframe tbody tr th {\n",
       "        vertical-align: top;\n",
       "    }\n",
       "\n",
       "    .dataframe thead th {\n",
       "        text-align: right;\n",
       "    }\n",
       "</style>\n",
       "<table border=\"1\" class=\"dataframe\">\n",
       "  <thead>\n",
       "    <tr style=\"text-align: right;\">\n",
       "      <th></th>\n",
       "      <th>L/C Price</th>\n",
       "      <th>Price_Per_Square_Foot</th>\n",
       "      <th>Sqft/A</th>\n",
       "      <th>YrBuilt</th>\n",
       "      <th>View</th>\n",
       "      <th>Private_Pool</th>\n",
       "      <th>County</th>\n",
       "      <th>Attic</th>\n",
       "      <th>Basement</th>\n",
       "      <th>Bed</th>\n",
       "      <th>Bath</th>\n",
       "      <th>LSqft</th>\n",
       "      <th>City</th>\n",
       "    </tr>\n",
       "  </thead>\n",
       "  <tbody>\n",
       "    <tr>\n",
       "      <th>0</th>\n",
       "      <td>1070000.0</td>\n",
       "      <td>568.54</td>\n",
       "      <td>1882</td>\n",
       "      <td>1960</td>\n",
       "      <td>1</td>\n",
       "      <td>0</td>\n",
       "      <td>Orange</td>\n",
       "      <td>0</td>\n",
       "      <td>0</td>\n",
       "      <td>3</td>\n",
       "      <td>2</td>\n",
       "      <td>2938.0</td>\n",
       "      <td>Seal Beach</td>\n",
       "    </tr>\n",
       "    <tr>\n",
       "      <th>1</th>\n",
       "      <td>1299000.0</td>\n",
       "      <td>556.08</td>\n",
       "      <td>2336</td>\n",
       "      <td>1958</td>\n",
       "      <td>1</td>\n",
       "      <td>0</td>\n",
       "      <td>Orange</td>\n",
       "      <td>0</td>\n",
       "      <td>0</td>\n",
       "      <td>4</td>\n",
       "      <td>2</td>\n",
       "      <td>5880.0</td>\n",
       "      <td>Seal Beach</td>\n",
       "    </tr>\n",
       "    <tr>\n",
       "      <th>2</th>\n",
       "      <td>590000.0</td>\n",
       "      <td>490.03</td>\n",
       "      <td>1204</td>\n",
       "      <td>1957</td>\n",
       "      <td>1</td>\n",
       "      <td>0</td>\n",
       "      <td>Orange</td>\n",
       "      <td>0</td>\n",
       "      <td>0</td>\n",
       "      <td>3</td>\n",
       "      <td>2</td>\n",
       "      <td>6237.0</td>\n",
       "      <td>Stanton</td>\n",
       "    </tr>\n",
       "    <tr>\n",
       "      <th>3</th>\n",
       "      <td>679000.0</td>\n",
       "      <td>523.92</td>\n",
       "      <td>1296</td>\n",
       "      <td>1964</td>\n",
       "      <td>1</td>\n",
       "      <td>0</td>\n",
       "      <td>Orange</td>\n",
       "      <td>0</td>\n",
       "      <td>0</td>\n",
       "      <td>3</td>\n",
       "      <td>2</td>\n",
       "      <td>1584.0</td>\n",
       "      <td>Huntington Beach</td>\n",
       "    </tr>\n",
       "    <tr>\n",
       "      <th>4</th>\n",
       "      <td>715000.0</td>\n",
       "      <td>607.99</td>\n",
       "      <td>1176</td>\n",
       "      <td>1964</td>\n",
       "      <td>1</td>\n",
       "      <td>1</td>\n",
       "      <td>Orange</td>\n",
       "      <td>0</td>\n",
       "      <td>0</td>\n",
       "      <td>3</td>\n",
       "      <td>2</td>\n",
       "      <td>6675.0</td>\n",
       "      <td>Huntington Beach</td>\n",
       "    </tr>\n",
       "    <tr>\n",
       "      <th>...</th>\n",
       "      <td>...</td>\n",
       "      <td>...</td>\n",
       "      <td>...</td>\n",
       "      <td>...</td>\n",
       "      <td>...</td>\n",
       "      <td>...</td>\n",
       "      <td>...</td>\n",
       "      <td>...</td>\n",
       "      <td>...</td>\n",
       "      <td>...</td>\n",
       "      <td>...</td>\n",
       "      <td>...</td>\n",
       "      <td>...</td>\n",
       "    </tr>\n",
       "    <tr>\n",
       "      <th>19565</th>\n",
       "      <td>549999.0</td>\n",
       "      <td>254.63</td>\n",
       "      <td>2160</td>\n",
       "      <td>1958</td>\n",
       "      <td>1</td>\n",
       "      <td>0</td>\n",
       "      <td>San Bernardino</td>\n",
       "      <td>0</td>\n",
       "      <td>0</td>\n",
       "      <td>5</td>\n",
       "      <td>2</td>\n",
       "      <td>9720.0</td>\n",
       "      <td>Redlands</td>\n",
       "    </tr>\n",
       "    <tr>\n",
       "      <th>19566</th>\n",
       "      <td>699000.0</td>\n",
       "      <td>406.40</td>\n",
       "      <td>1720</td>\n",
       "      <td>1940</td>\n",
       "      <td>1</td>\n",
       "      <td>0</td>\n",
       "      <td>San Bernardino</td>\n",
       "      <td>0</td>\n",
       "      <td>0</td>\n",
       "      <td>3</td>\n",
       "      <td>2</td>\n",
       "      <td>6950.0</td>\n",
       "      <td>Redlands</td>\n",
       "    </tr>\n",
       "    <tr>\n",
       "      <th>19572</th>\n",
       "      <td>330000.0</td>\n",
       "      <td>228.22</td>\n",
       "      <td>1446</td>\n",
       "      <td>1959</td>\n",
       "      <td>1</td>\n",
       "      <td>0</td>\n",
       "      <td>San Bernardino</td>\n",
       "      <td>0</td>\n",
       "      <td>0</td>\n",
       "      <td>3</td>\n",
       "      <td>2</td>\n",
       "      <td>10260.0</td>\n",
       "      <td>Colton</td>\n",
       "    </tr>\n",
       "    <tr>\n",
       "      <th>19617</th>\n",
       "      <td>260000.0</td>\n",
       "      <td>202.33</td>\n",
       "      <td>1285</td>\n",
       "      <td>1955</td>\n",
       "      <td>1</td>\n",
       "      <td>0</td>\n",
       "      <td>San Bernardino</td>\n",
       "      <td>0</td>\n",
       "      <td>0</td>\n",
       "      <td>3</td>\n",
       "      <td>2</td>\n",
       "      <td>7504.0</td>\n",
       "      <td>Redlands</td>\n",
       "    </tr>\n",
       "    <tr>\n",
       "      <th>19631</th>\n",
       "      <td>485000.0</td>\n",
       "      <td>201.92</td>\n",
       "      <td>2402</td>\n",
       "      <td>1970</td>\n",
       "      <td>1</td>\n",
       "      <td>1</td>\n",
       "      <td>San Bernardino</td>\n",
       "      <td>0</td>\n",
       "      <td>0</td>\n",
       "      <td>5</td>\n",
       "      <td>3</td>\n",
       "      <td>8400.0</td>\n",
       "      <td>Yucaipa</td>\n",
       "    </tr>\n",
       "  </tbody>\n",
       "</table>\n",
       "<p>12625 rows × 13 columns</p>\n",
       "</div>"
      ],
      "text/plain": [
       "       L/C Price  Price_Per_Square_Foot Sqft/A  YrBuilt  View  Private_Pool  \\\n",
       "0      1070000.0                 568.54   1882     1960     1             0   \n",
       "1      1299000.0                 556.08   2336     1958     1             0   \n",
       "2       590000.0                 490.03   1204     1957     1             0   \n",
       "3       679000.0                 523.92   1296     1964     1             0   \n",
       "4       715000.0                 607.99   1176     1964     1             1   \n",
       "...          ...                    ...    ...      ...   ...           ...   \n",
       "19565   549999.0                 254.63   2160     1958     1             0   \n",
       "19566   699000.0                 406.40   1720     1940     1             0   \n",
       "19572   330000.0                 228.22   1446     1959     1             0   \n",
       "19617   260000.0                 202.33   1285     1955     1             0   \n",
       "19631   485000.0                 201.92   2402     1970     1             1   \n",
       "\n",
       "               County  Attic  Basement  Bed  Bath    LSqft              City  \n",
       "0              Orange      0         0    3     2   2938.0        Seal Beach  \n",
       "1              Orange      0         0    4     2   5880.0        Seal Beach  \n",
       "2              Orange      0         0    3     2   6237.0           Stanton  \n",
       "3              Orange      0         0    3     2   1584.0  Huntington Beach  \n",
       "4              Orange      0         0    3     2   6675.0  Huntington Beach  \n",
       "...               ...    ...       ...  ...   ...      ...               ...  \n",
       "19565  San Bernardino      0         0    5     2   9720.0          Redlands  \n",
       "19566  San Bernardino      0         0    3     2   6950.0          Redlands  \n",
       "19572  San Bernardino      0         0    3     2  10260.0            Colton  \n",
       "19617  San Bernardino      0         0    3     2   7504.0          Redlands  \n",
       "19631  San Bernardino      0         0    5     3   8400.0           Yucaipa  \n",
       "\n",
       "[12625 rows x 13 columns]"
      ]
     },
     "execution_count": 39,
     "metadata": {},
     "output_type": "execute_result"
    }
   ],
   "source": [
    "clean_df"
   ]
  },
  {
   "cell_type": "code",
   "execution_count": null,
   "metadata": {},
   "outputs": [],
   "source": []
  },
  {
   "cell_type": "code",
   "execution_count": 40,
   "metadata": {},
   "outputs": [],
   "source": [
    "riverside = clean_df[clean_df.County == \"Riverside\"]\n",
    "los_angeles = clean_df[clean_df.County == \"Los Angeles\"]\n",
    "orange = clean_df[clean_df.County == \"Orange\"]\n"
   ]
  },
  {
   "cell_type": "code",
   "execution_count": 41,
   "metadata": {},
   "outputs": [],
   "source": [
    "CA = riverside.append(los_angeles)"
   ]
  },
  {
   "cell_type": "code",
   "execution_count": 42,
   "metadata": {},
   "outputs": [],
   "source": [
    "ca_df = CA.append(orange)"
   ]
  },
  {
   "cell_type": "code",
   "execution_count": 43,
   "metadata": {
    "scrolled": true
   },
   "outputs": [
    {
     "data": {
      "text/plain": [
       "12166"
      ]
     },
     "execution_count": 43,
     "metadata": {},
     "output_type": "execute_result"
    }
   ],
   "source": [
    "ca_df.reset_index()\n",
    "len(ca_df)"
   ]
  },
  {
   "cell_type": "code",
   "execution_count": 44,
   "metadata": {},
   "outputs": [],
   "source": [
    "county_rank = ca_df.loc[:,[\"L/C Price\", \"County\"]]"
   ]
  },
  {
   "cell_type": "code",
   "execution_count": 45,
   "metadata": {},
   "outputs": [],
   "source": [
    "county_rank = county_rank.groupby(\"County\").mean()"
   ]
  },
  {
   "cell_type": "code",
   "execution_count": 46,
   "metadata": {},
   "outputs": [
    {
     "data": {
      "text/html": [
       "<div>\n",
       "<style scoped>\n",
       "    .dataframe tbody tr th:only-of-type {\n",
       "        vertical-align: middle;\n",
       "    }\n",
       "\n",
       "    .dataframe tbody tr th {\n",
       "        vertical-align: top;\n",
       "    }\n",
       "\n",
       "    .dataframe thead th {\n",
       "        text-align: right;\n",
       "    }\n",
       "</style>\n",
       "<table border=\"1\" class=\"dataframe\">\n",
       "  <thead>\n",
       "    <tr style=\"text-align: right;\">\n",
       "      <th></th>\n",
       "      <th>L/C Price</th>\n",
       "    </tr>\n",
       "    <tr>\n",
       "      <th>County</th>\n",
       "      <th></th>\n",
       "    </tr>\n",
       "  </thead>\n",
       "  <tbody>\n",
       "    <tr>\n",
       "      <th>Riverside</th>\n",
       "      <td>433577.542398</td>\n",
       "    </tr>\n",
       "    <tr>\n",
       "      <th>Los Angeles</th>\n",
       "      <td>667185.581683</td>\n",
       "    </tr>\n",
       "    <tr>\n",
       "      <th>Orange</th>\n",
       "      <td>838591.011329</td>\n",
       "    </tr>\n",
       "  </tbody>\n",
       "</table>\n",
       "</div>"
      ],
      "text/plain": [
       "                 L/C Price\n",
       "County                    \n",
       "Riverside    433577.542398\n",
       "Los Angeles  667185.581683\n",
       "Orange       838591.011329"
      ]
     },
     "execution_count": 46,
     "metadata": {},
     "output_type": "execute_result"
    }
   ],
   "source": [
    "county_rank.sort_values(by = \"L/C Price\")"
   ]
  },
  {
   "cell_type": "code",
   "execution_count": 47,
   "metadata": {},
   "outputs": [],
   "source": [
    "ca_df.replace({\"Riverside\":1, \"Los Angeles\":2, \"Orange\":3}, inplace = True)"
   ]
  },
  {
   "cell_type": "code",
   "execution_count": 48,
   "metadata": {},
   "outputs": [
    {
     "data": {
      "text/plain": [
       "array([1, 0, 2])"
      ]
     },
     "execution_count": 48,
     "metadata": {},
     "output_type": "execute_result"
    }
   ],
   "source": [
    "ca_df.Attic.unique()"
   ]
  },
  {
   "cell_type": "code",
   "execution_count": 49,
   "metadata": {},
   "outputs": [],
   "source": [
    "# ca_df.drop(columns = \"Price_Per_Square_Foot\", inplace = True)"
   ]
  },
  {
   "cell_type": "code",
   "execution_count": 50,
   "metadata": {},
   "outputs": [
    {
     "data": {
      "text/plain": [
       "236"
      ]
     },
     "execution_count": 50,
     "metadata": {},
     "output_type": "execute_result"
    }
   ],
   "source": [
    "len(ca_df.City.unique())"
   ]
  },
  {
   "cell_type": "code",
   "execution_count": 51,
   "metadata": {},
   "outputs": [],
   "source": [
    "ca_df = ca_df.loc[:,['L/C Price',\"City\", 'Price_Per_Square_Foot', 'Sqft/A', 'YrBuilt',\n",
    "       'View', 'Private_Pool', 'County', 'Attic', 'Basement', 'Bed', 'Bath',\n",
    "       'LSqft']]"
   ]
  },
  {
   "cell_type": "code",
   "execution_count": 52,
   "metadata": {},
   "outputs": [],
   "source": [
    "ca_df[\"Sqft/A\"] = ca_df[\"Sqft/A\"].astype(float)"
   ]
  },
  {
   "cell_type": "code",
   "execution_count": 53,
   "metadata": {},
   "outputs": [
    {
     "name": "stdout",
     "output_type": "stream",
     "text": [
      "<class 'pandas.core.frame.DataFrame'>\n",
      "Int64Index: 12166 entries, 9653 to 2668\n",
      "Data columns (total 13 columns):\n",
      "L/C Price                12166 non-null float64\n",
      "City                     12166 non-null object\n",
      "Price_Per_Square_Foot    12166 non-null float64\n",
      "Sqft/A                   12166 non-null float64\n",
      "YrBuilt                  12166 non-null int64\n",
      "View                     12166 non-null int64\n",
      "Private_Pool             12166 non-null int64\n",
      "County                   12166 non-null int64\n",
      "Attic                    12166 non-null int64\n",
      "Basement                 12166 non-null int64\n",
      "Bed                      12166 non-null int64\n",
      "Bath                     12166 non-null int64\n",
      "LSqft                    12166 non-null float64\n",
      "dtypes: float64(4), int64(8), object(1)\n",
      "memory usage: 1.3+ MB\n"
     ]
    }
   ],
   "source": [
    "ca_df.info()"
   ]
  },
  {
   "cell_type": "code",
   "execution_count": 54,
   "metadata": {},
   "outputs": [],
   "source": [
    "city_ranking = ca_df.loc[:,[\"City\",\"L/C Price\"]]"
   ]
  },
  {
   "cell_type": "code",
   "execution_count": 55,
   "metadata": {},
   "outputs": [],
   "source": [
    "city_ranking = city_ranking.groupby(\"City\").mean()"
   ]
  },
  {
   "cell_type": "code",
   "execution_count": 56,
   "metadata": {},
   "outputs": [],
   "source": [
    "city_ranking = city_ranking.sort_values(by='L/C Price', ascending=True).reset_index()"
   ]
  },
  {
   "cell_type": "code",
   "execution_count": 57,
   "metadata": {},
   "outputs": [],
   "source": [
    "city_ranking[\"city_rank\"] = city_ranking.index + 1"
   ]
  },
  {
   "cell_type": "code",
   "execution_count": 58,
   "metadata": {},
   "outputs": [
    {
     "data": {
      "text/html": [
       "<div>\n",
       "<style scoped>\n",
       "    .dataframe tbody tr th:only-of-type {\n",
       "        vertical-align: middle;\n",
       "    }\n",
       "\n",
       "    .dataframe tbody tr th {\n",
       "        vertical-align: top;\n",
       "    }\n",
       "\n",
       "    .dataframe thead th {\n",
       "        text-align: right;\n",
       "    }\n",
       "</style>\n",
       "<table border=\"1\" class=\"dataframe\">\n",
       "  <thead>\n",
       "    <tr style=\"text-align: right;\">\n",
       "      <th></th>\n",
       "      <th>City</th>\n",
       "      <th>L/C Price</th>\n",
       "      <th>city_rank</th>\n",
       "    </tr>\n",
       "  </thead>\n",
       "  <tbody>\n",
       "    <tr>\n",
       "      <th>147</th>\n",
       "      <td>3</td>\n",
       "      <td>751466.738854</td>\n",
       "      <td>148</td>\n",
       "    </tr>\n",
       "  </tbody>\n",
       "</table>\n",
       "</div>"
      ],
      "text/plain": [
       "    City      L/C Price  city_rank\n",
       "147    3  751466.738854        148"
      ]
     },
     "execution_count": 58,
     "metadata": {},
     "output_type": "execute_result"
    }
   ],
   "source": [
    "city_ranking[city_ranking.City == 3]"
   ]
  },
  {
   "cell_type": "code",
   "execution_count": 59,
   "metadata": {},
   "outputs": [],
   "source": [
    "ca_df.City =ca_df.City.astype(str)"
   ]
  },
  {
   "cell_type": "code",
   "execution_count": 60,
   "metadata": {},
   "outputs": [],
   "source": [
    "ca_df.replace({\"3\":\"Orange\",\"2\":\"Los Angeles\"},inplace = True)"
   ]
  },
  {
   "cell_type": "code",
   "execution_count": 64,
   "metadata": {},
   "outputs": [
    {
     "data": {
      "text/html": [
       "<div>\n",
       "<style scoped>\n",
       "    .dataframe tbody tr th:only-of-type {\n",
       "        vertical-align: middle;\n",
       "    }\n",
       "\n",
       "    .dataframe tbody tr th {\n",
       "        vertical-align: top;\n",
       "    }\n",
       "\n",
       "    .dataframe thead th {\n",
       "        text-align: right;\n",
       "    }\n",
       "</style>\n",
       "<table border=\"1\" class=\"dataframe\">\n",
       "  <thead>\n",
       "    <tr style=\"text-align: right;\">\n",
       "      <th></th>\n",
       "      <th>L/C Price</th>\n",
       "      <th>City</th>\n",
       "      <th>Price_Per_Square_Foot</th>\n",
       "      <th>Sqft/A</th>\n",
       "      <th>YrBuilt</th>\n",
       "      <th>View</th>\n",
       "      <th>Private_Pool</th>\n",
       "      <th>County</th>\n",
       "      <th>Attic</th>\n",
       "      <th>Basement</th>\n",
       "      <th>Bed</th>\n",
       "      <th>Bath</th>\n",
       "      <th>LSqft</th>\n",
       "    </tr>\n",
       "  </thead>\n",
       "  <tbody>\n",
       "    <tr>\n",
       "      <th>4356</th>\n",
       "      <td>600000.0</td>\n",
       "      <td>Los Angeles</td>\n",
       "      <td>980.39</td>\n",
       "      <td>612.0</td>\n",
       "      <td>1928</td>\n",
       "      <td>1</td>\n",
       "      <td>0</td>\n",
       "      <td>2</td>\n",
       "      <td>0</td>\n",
       "      <td>0</td>\n",
       "      <td>2</td>\n",
       "      <td>1</td>\n",
       "      <td>3016.0</td>\n",
       "    </tr>\n",
       "    <tr>\n",
       "      <th>4357</th>\n",
       "      <td>605000.0</td>\n",
       "      <td>Los Angeles</td>\n",
       "      <td>641.57</td>\n",
       "      <td>943.0</td>\n",
       "      <td>1923</td>\n",
       "      <td>0</td>\n",
       "      <td>0</td>\n",
       "      <td>2</td>\n",
       "      <td>1</td>\n",
       "      <td>0</td>\n",
       "      <td>2</td>\n",
       "      <td>1</td>\n",
       "      <td>5957.0</td>\n",
       "    </tr>\n",
       "    <tr>\n",
       "      <th>4358</th>\n",
       "      <td>740000.0</td>\n",
       "      <td>Los Angeles</td>\n",
       "      <td>725.49</td>\n",
       "      <td>1020.0</td>\n",
       "      <td>1925</td>\n",
       "      <td>1</td>\n",
       "      <td>0</td>\n",
       "      <td>2</td>\n",
       "      <td>0</td>\n",
       "      <td>0</td>\n",
       "      <td>3</td>\n",
       "      <td>2</td>\n",
       "      <td>3583.0</td>\n",
       "    </tr>\n",
       "    <tr>\n",
       "      <th>4379</th>\n",
       "      <td>722000.0</td>\n",
       "      <td>Los Angeles</td>\n",
       "      <td>585.09</td>\n",
       "      <td>1234.0</td>\n",
       "      <td>1923</td>\n",
       "      <td>1</td>\n",
       "      <td>0</td>\n",
       "      <td>2</td>\n",
       "      <td>0</td>\n",
       "      <td>0</td>\n",
       "      <td>3</td>\n",
       "      <td>2</td>\n",
       "      <td>10189.0</td>\n",
       "    </tr>\n",
       "    <tr>\n",
       "      <th>4380</th>\n",
       "      <td>776500.0</td>\n",
       "      <td>Los Angeles</td>\n",
       "      <td>808.85</td>\n",
       "      <td>960.0</td>\n",
       "      <td>1925</td>\n",
       "      <td>1</td>\n",
       "      <td>0</td>\n",
       "      <td>2</td>\n",
       "      <td>0</td>\n",
       "      <td>0</td>\n",
       "      <td>3</td>\n",
       "      <td>2</td>\n",
       "      <td>5666.0</td>\n",
       "    </tr>\n",
       "    <tr>\n",
       "      <th>...</th>\n",
       "      <td>...</td>\n",
       "      <td>...</td>\n",
       "      <td>...</td>\n",
       "      <td>...</td>\n",
       "      <td>...</td>\n",
       "      <td>...</td>\n",
       "      <td>...</td>\n",
       "      <td>...</td>\n",
       "      <td>...</td>\n",
       "      <td>...</td>\n",
       "      <td>...</td>\n",
       "      <td>...</td>\n",
       "      <td>...</td>\n",
       "    </tr>\n",
       "    <tr>\n",
       "      <th>8771</th>\n",
       "      <td>425000.0</td>\n",
       "      <td>Los Angeles</td>\n",
       "      <td>491.33</td>\n",
       "      <td>865.0</td>\n",
       "      <td>1944</td>\n",
       "      <td>0</td>\n",
       "      <td>0</td>\n",
       "      <td>2</td>\n",
       "      <td>0</td>\n",
       "      <td>0</td>\n",
       "      <td>2</td>\n",
       "      <td>1</td>\n",
       "      <td>5301.0</td>\n",
       "    </tr>\n",
       "    <tr>\n",
       "      <th>8774</th>\n",
       "      <td>475000.0</td>\n",
       "      <td>Los Angeles</td>\n",
       "      <td>392.89</td>\n",
       "      <td>1209.0</td>\n",
       "      <td>1944</td>\n",
       "      <td>0</td>\n",
       "      <td>0</td>\n",
       "      <td>2</td>\n",
       "      <td>0</td>\n",
       "      <td>0</td>\n",
       "      <td>3</td>\n",
       "      <td>2</td>\n",
       "      <td>5441.0</td>\n",
       "    </tr>\n",
       "    <tr>\n",
       "      <th>8784</th>\n",
       "      <td>540000.0</td>\n",
       "      <td>Los Angeles</td>\n",
       "      <td>414.11</td>\n",
       "      <td>1304.0</td>\n",
       "      <td>1920</td>\n",
       "      <td>0</td>\n",
       "      <td>0</td>\n",
       "      <td>2</td>\n",
       "      <td>0</td>\n",
       "      <td>0</td>\n",
       "      <td>4</td>\n",
       "      <td>1</td>\n",
       "      <td>4685.0</td>\n",
       "    </tr>\n",
       "    <tr>\n",
       "      <th>8788</th>\n",
       "      <td>609000.0</td>\n",
       "      <td>Los Angeles</td>\n",
       "      <td>467.38</td>\n",
       "      <td>1303.0</td>\n",
       "      <td>1940</td>\n",
       "      <td>0</td>\n",
       "      <td>0</td>\n",
       "      <td>2</td>\n",
       "      <td>0</td>\n",
       "      <td>0</td>\n",
       "      <td>4</td>\n",
       "      <td>1</td>\n",
       "      <td>6132.0</td>\n",
       "    </tr>\n",
       "    <tr>\n",
       "      <th>8790</th>\n",
       "      <td>635000.0</td>\n",
       "      <td>Los Angeles</td>\n",
       "      <td>379.10</td>\n",
       "      <td>1675.0</td>\n",
       "      <td>1924</td>\n",
       "      <td>1</td>\n",
       "      <td>0</td>\n",
       "      <td>2</td>\n",
       "      <td>0</td>\n",
       "      <td>0</td>\n",
       "      <td>3</td>\n",
       "      <td>2</td>\n",
       "      <td>7159.0</td>\n",
       "    </tr>\n",
       "  </tbody>\n",
       "</table>\n",
       "<p>281 rows × 13 columns</p>\n",
       "</div>"
      ],
      "text/plain": [
       "      L/C Price         City  Price_Per_Square_Foot  Sqft/A  YrBuilt  View  \\\n",
       "4356   600000.0  Los Angeles                 980.39   612.0     1928     1   \n",
       "4357   605000.0  Los Angeles                 641.57   943.0     1923     0   \n",
       "4358   740000.0  Los Angeles                 725.49  1020.0     1925     1   \n",
       "4379   722000.0  Los Angeles                 585.09  1234.0     1923     1   \n",
       "4380   776500.0  Los Angeles                 808.85   960.0     1925     1   \n",
       "...         ...          ...                    ...     ...      ...   ...   \n",
       "8771   425000.0  Los Angeles                 491.33   865.0     1944     0   \n",
       "8774   475000.0  Los Angeles                 392.89  1209.0     1944     0   \n",
       "8784   540000.0  Los Angeles                 414.11  1304.0     1920     0   \n",
       "8788   609000.0  Los Angeles                 467.38  1303.0     1940     0   \n",
       "8790   635000.0  Los Angeles                 379.10  1675.0     1924     1   \n",
       "\n",
       "      Private_Pool  County  Attic  Basement  Bed  Bath    LSqft  \n",
       "4356             0       2      0         0    2     1   3016.0  \n",
       "4357             0       2      1         0    2     1   5957.0  \n",
       "4358             0       2      0         0    3     2   3583.0  \n",
       "4379             0       2      0         0    3     2  10189.0  \n",
       "4380             0       2      0         0    3     2   5666.0  \n",
       "...            ...     ...    ...       ...  ...   ...      ...  \n",
       "8771             0       2      0         0    2     1   5301.0  \n",
       "8774             0       2      0         0    3     2   5441.0  \n",
       "8784             0       2      0         0    4     1   4685.0  \n",
       "8788             0       2      0         0    4     1   6132.0  \n",
       "8790             0       2      0         0    3     2   7159.0  \n",
       "\n",
       "[281 rows x 13 columns]"
      ]
     },
     "execution_count": 64,
     "metadata": {},
     "output_type": "execute_result"
    }
   ],
   "source": [
    "ca_df[ca_df.City == \"Los Angeles\"]"
   ]
  },
  {
   "cell_type": "code",
   "execution_count": 63,
   "metadata": {},
   "outputs": [
    {
     "name": "stdout",
     "output_type": "stream",
     "text": [
      "<class 'pandas.core.frame.DataFrame'>\n",
      "Int64Index: 12166 entries, 9653 to 2668\n",
      "Data columns (total 13 columns):\n",
      "L/C Price                12166 non-null float64\n",
      "City                     12166 non-null object\n",
      "Price_Per_Square_Foot    12166 non-null float64\n",
      "Sqft/A                   12166 non-null float64\n",
      "YrBuilt                  12166 non-null int64\n",
      "View                     12166 non-null int64\n",
      "Private_Pool             12166 non-null int64\n",
      "County                   12166 non-null int64\n",
      "Attic                    12166 non-null int64\n",
      "Basement                 12166 non-null int64\n",
      "Bed                      12166 non-null int64\n",
      "Bath                     12166 non-null int64\n",
      "LSqft                    12166 non-null float64\n",
      "dtypes: float64(4), int64(8), object(1)\n",
      "memory usage: 1.3+ MB\n"
     ]
    }
   ],
   "source": [
    "ca_df.info()"
   ]
  },
  {
   "cell_type": "code",
   "execution_count": 65,
   "metadata": {},
   "outputs": [],
   "source": [
    "city_ranking.City =city_ranking.City.astype(str)"
   ]
  },
  {
   "cell_type": "code",
   "execution_count": 66,
   "metadata": {},
   "outputs": [],
   "source": [
    "city_ranking.replace({\"3\":\"Orange\",\"2\":\"Los Angeles\"},inplace = True)"
   ]
  },
  {
   "cell_type": "code",
   "execution_count": 67,
   "metadata": {},
   "outputs": [],
   "source": [
    "ca_df = ca_df.merge(city_ranking, left_on = 'City', right_on=  'City', how = \"left\")"
   ]
  },
  {
   "cell_type": "code",
   "execution_count": 68,
   "metadata": {},
   "outputs": [],
   "source": [
    "Riverside_Cities = clean_df[clean_df.County == \"Riverside\"]\n",
    "Los_Angeles_Cities = clean_df[clean_df.County == \"Los Angeles\"]\n",
    "Orange_Cities = clean_df[clean_df.County == \"Orange\"]"
   ]
  },
  {
   "cell_type": "code",
   "execution_count": 69,
   "metadata": {},
   "outputs": [],
   "source": [
    "ca_df.drop(columns = [\"City\",\"L/C Price_y\"], inplace = True)\n",
    "ca_df.rename(columns = {\"L/C Price_x\":\"L/C Price\"}, inplace = True)"
   ]
  },
  {
   "cell_type": "code",
   "execution_count": 70,
   "metadata": {},
   "outputs": [],
   "source": [
    "city_ranking.to_csv(\"city_ranking.csv\", sep = ',')"
   ]
  },
  {
   "cell_type": "markdown",
   "metadata": {},
   "source": [
    "## Starting the model"
   ]
  },
  {
   "cell_type": "code",
   "execution_count": 71,
   "metadata": {},
   "outputs": [],
   "source": [
    "ca_model = ca_df.reset_index()"
   ]
  },
  {
   "cell_type": "code",
   "execution_count": 72,
   "metadata": {},
   "outputs": [],
   "source": [
    "ca_model.drop(columns = 'index', inplace = True)"
   ]
  },
  {
   "cell_type": "code",
   "execution_count": 73,
   "metadata": {},
   "outputs": [
    {
     "data": {
      "text/plain": [
       "<matplotlib.axes._subplots.AxesSubplot at 0x1081e5b70>"
      ]
     },
     "execution_count": 73,
     "metadata": {},
     "output_type": "execute_result"
    },
    {
     "data": {
      "image/png": "[encoded data removed]",
      "text/plain": [
       "<Figure size 936x936 with 2 Axes>"
      ]
     },
     "metadata": {
      "needs_background": "light"
     },
     "output_type": "display_data"
    }
   ],
   "source": [
    "ca_model\n",
    "fig = plt.figure(figsize = (13,13))\n",
    "sns.heatmap(ca_model.corr(), annot = False, vmax = 1, cmap = 'viridis', square = False)"
   ]
  },
  {
   "cell_type": "code",
   "execution_count": 74,
   "metadata": {},
   "outputs": [
    {
     "data": {
      "image/png": "[encoded data removed]",
      "text/plain": [
       "<Figure size 864x720 with 2 Axes>"
      ]
     },
     "metadata": {
      "needs_background": "light"
     },
     "output_type": "display_data"
    }
   ],
   "source": [
    "plt.figure(figsize = (12,10))\n",
    "cor = ca_model.corr()*100\n",
    "sns.heatmap(cor, annot=True, cmap=plt.cm.Reds)\n",
    "plt.show()"
   ]
  },
  {
   "cell_type": "code",
   "execution_count": 75,
   "metadata": {},
   "outputs": [
    {
     "data": {
      "text/plain": [
       "<matplotlib.axes._subplots.AxesSubplot at 0x132fd8c18>"
      ]
     },
     "execution_count": 75,
     "metadata": {},
     "output_type": "execute_result"
    },
    {
     "data": {
      "image/png": "[encoded data removed]",
      "text/plain": [
       "<Figure size 432x288 with 1 Axes>"
      ]
     },
     "metadata": {
      "needs_background": "light"
     },
     "output_type": "display_data"
    }
   ],
   "source": [
    "ca_classification = ca_model.assign(\n",
    "    price_cat = pd.qcut(\n",
    "        ca_model['L/C Price'],\n",
    "        q=3,\n",
    "        duplicates='drop',\n",
    "        labels=[0,1,2]\n",
    "    )\n",
    ")\n",
    "\n",
    "# Visualize the Split\n",
    "sns.countplot(ca_classification['price_cat'])"
   ]
  },
  {
   "cell_type": "code",
   "execution_count": 76,
   "metadata": {},
   "outputs": [
    {
     "data": {
      "text/plain": [
       "Index(['L/C Price', 'Price_Per_Square_Foot', 'Sqft/A', 'YrBuilt', 'View',\n",
       "       'Private_Pool', 'County', 'Attic', 'Basement', 'Bed', 'Bath', 'LSqft',\n",
       "       'city_rank', 'price_cat'],\n",
       "      dtype='object')"
      ]
     },
     "execution_count": 76,
     "metadata": {},
     "output_type": "execute_result"
    }
   ],
   "source": [
    "ca_classification.columns"
   ]
  },
  {
   "cell_type": "code",
   "execution_count": 77,
   "metadata": {},
   "outputs": [],
   "source": [
    "y = ca_classification['L/C Price']\n",
    "X =ca_classification[['Sqft/A','County',\"city_rank\", 'YrBuilt', 'View',\n",
    "       'Private_Pool','Bed','Bath', 'Attic', 'Basement']]"
   ]
  },
  {
   "cell_type": "code",
   "execution_count": 78,
   "metadata": {},
   "outputs": [
    {
     "data": {
      "text/html": [
       "<div>\n",
       "<style scoped>\n",
       "    .dataframe tbody tr th:only-of-type {\n",
       "        vertical-align: middle;\n",
       "    }\n",
       "\n",
       "    .dataframe tbody tr th {\n",
       "        vertical-align: top;\n",
       "    }\n",
       "\n",
       "    .dataframe thead th {\n",
       "        text-align: right;\n",
       "    }\n",
       "</style>\n",
       "<table border=\"1\" class=\"dataframe\">\n",
       "  <thead>\n",
       "    <tr style=\"text-align: right;\">\n",
       "      <th></th>\n",
       "      <th>Sqft/A</th>\n",
       "      <th>County</th>\n",
       "      <th>city_rank</th>\n",
       "      <th>YrBuilt</th>\n",
       "      <th>View</th>\n",
       "      <th>Private_Pool</th>\n",
       "      <th>Bed</th>\n",
       "      <th>Bath</th>\n",
       "      <th>Attic</th>\n",
       "      <th>Basement</th>\n",
       "    </tr>\n",
       "  </thead>\n",
       "  <tbody>\n",
       "    <tr>\n",
       "      <th>0</th>\n",
       "      <td>912.0</td>\n",
       "      <td>1</td>\n",
       "      <td>17</td>\n",
       "      <td>1922</td>\n",
       "      <td>1</td>\n",
       "      <td>0</td>\n",
       "      <td>1</td>\n",
       "      <td>1</td>\n",
       "      <td>1</td>\n",
       "      <td>0</td>\n",
       "    </tr>\n",
       "  </tbody>\n",
       "</table>\n",
       "</div>"
      ],
      "text/plain": [
       "   Sqft/A  County  city_rank  YrBuilt  View  Private_Pool  Bed  Bath  Attic  \\\n",
       "0   912.0       1         17     1922     1             0    1     1      1   \n",
       "\n",
       "   Basement  \n",
       "0         0  "
      ]
     },
     "execution_count": 78,
     "metadata": {},
     "output_type": "execute_result"
    }
   ],
   "source": [
    "X.head(1)"
   ]
  },
  {
   "cell_type": "code",
   "execution_count": 79,
   "metadata": {},
   "outputs": [
    {
     "data": {
      "text/plain": [
       "0    234900.0\n",
       "Name: L/C Price, dtype: float64"
      ]
     },
     "execution_count": 79,
     "metadata": {},
     "output_type": "execute_result"
    }
   ],
   "source": [
    "y.head(1)"
   ]
  },
  {
   "cell_type": "code",
   "execution_count": 80,
   "metadata": {},
   "outputs": [],
   "source": [
    "X_train, X_test, y_train, y_test = train_test_split(X, y, test_size=0.2, random_state=42)"
   ]
  },
  {
   "cell_type": "code",
   "execution_count": 81,
   "metadata": {},
   "outputs": [
    {
     "data": {
      "text/plain": [
       "(2434, 10)"
      ]
     },
     "execution_count": 81,
     "metadata": {},
     "output_type": "execute_result"
    }
   ],
   "source": [
    "X_test.shape"
   ]
  },
  {
   "cell_type": "code",
   "execution_count": 82,
   "metadata": {},
   "outputs": [
    {
     "data": {
      "text/plain": [
       "(9732, 10)"
      ]
     },
     "execution_count": 82,
     "metadata": {},
     "output_type": "execute_result"
    }
   ],
   "source": [
    "X_train.shape"
   ]
  },
  {
   "cell_type": "code",
   "execution_count": 83,
   "metadata": {},
   "outputs": [],
   "source": [
    "from sklearn.ensemble import RandomForestClassifier\n",
    "from sklearn import tree\n"
   ]
  },
  {
   "cell_type": "code",
   "execution_count": 84,
   "metadata": {},
   "outputs": [],
   "source": [
    "# rf = RandomForestClassifier(n_estimators=200)"
   ]
  },
  {
   "cell_type": "code",
   "execution_count": 85,
   "metadata": {},
   "outputs": [],
   "source": [
    "#  rf = rf.fit(X_train, y_train)"
   ]
  },
  {
   "cell_type": "code",
   "execution_count": 86,
   "metadata": {},
   "outputs": [],
   "source": [
    "# rf.score(X_test, y_test) "
   ]
  },
  {
   "cell_type": "code",
   "execution_count": 87,
   "metadata": {},
   "outputs": [],
   "source": [
    "# clf = tree.DecisionTreeClassifier()\n",
    "# clf = clf.fit(X_train, y_train)\n",
    "# clf.predict(X_test)"
   ]
  },
  {
   "cell_type": "code",
   "execution_count": 88,
   "metadata": {},
   "outputs": [],
   "source": [
    "# clf.score(X_test,y_test) "
   ]
  },
  {
   "cell_type": "code",
   "execution_count": 89,
   "metadata": {},
   "outputs": [
    {
     "name": "stdout",
     "output_type": "stream",
     "text": [
      "Training Data Score: 0.7659155799217192\n",
      "Testing Data Score: 0.7511195617284253\n"
     ]
    }
   ],
   "source": [
    "regressor = LinearRegression()  \n",
    "regressor.fit(X_train, y_train)\n",
    "print(f\"Training Data Score: {regressor.score(X_train, y_train)}\")\n",
    "print(f\"Testing Data Score: {regressor.score(X_test, y_test)}\")"
   ]
  },
  {
   "cell_type": "code",
   "execution_count": 90,
   "metadata": {},
   "outputs": [
    {
     "data": {
      "text/plain": [
       "array([230810.44977509, 357092.18036643, 628131.98774402, ...,\n",
       "       339646.46463173, 561520.46220729, 768667.73809689])"
      ]
     },
     "execution_count": 90,
     "metadata": {},
     "output_type": "execute_result"
    }
   ],
   "source": [
    "y_pred = regressor.predict(X_test)\n",
    "y_pred"
   ]
  },
  {
   "cell_type": "code",
   "execution_count": 91,
   "metadata": {},
   "outputs": [],
   "source": [
    "df = pd.DataFrame({'Actual': y_test, 'Predicted': y_pred})\n",
    "df\n",
    "df1 = df"
   ]
  },
  {
   "cell_type": "code",
   "execution_count": 92,
   "metadata": {},
   "outputs": [],
   "source": [
    "# df1"
   ]
  },
  {
   "cell_type": "code",
   "execution_count": 93,
   "metadata": {},
   "outputs": [],
   "source": [
    " from sklearn.metrics import mean_squared_error"
   ]
  },
  {
   "cell_type": "code",
   "execution_count": 94,
   "metadata": {},
   "outputs": [
    {
     "data": {
      "text/plain": [
       "18631449625.620377"
      ]
     },
     "execution_count": 94,
     "metadata": {},
     "output_type": "execute_result"
    }
   ],
   "source": [
    "pattern = \"%.0f\"\n",
    "y_pred = [pattern % int(i) for i in y_pred]\n",
    "y_pred = [int(i) for i in y_pred]\n",
    "mean_squared_error(y_test, y_pred)"
   ]
  },
  {
   "cell_type": "code",
   "execution_count": 95,
   "metadata": {},
   "outputs": [
    {
     "name": "stdout",
     "output_type": "stream",
     "text": [
      "R2 Score:  0.7511196225351984\n"
     ]
    }
   ],
   "source": [
    "from sklearn.metrics import r2_score\n",
    "print('R2 Score: ', r2_score(y_test,y_pred))"
   ]
  },
  {
   "cell_type": "code",
   "execution_count": 96,
   "metadata": {},
   "outputs": [
    {
     "name": "stdout",
     "output_type": "stream",
     "text": [
      "Mean Absolute Error: 91643.0312243221\n",
      "Mean Squared Error: 18631449625.620377\n",
      "Root Mean Squared Error: 136497.06819423038\n"
     ]
    }
   ],
   "source": [
    "print('Mean Absolute Error:', metrics.mean_absolute_error(y_test, y_pred))  \n",
    "print('Mean Squared Error:', metrics.mean_squared_error(y_test, y_pred))  \n",
    "print('Root Mean Squared Error:', np.sqrt(metrics.mean_squared_error(y_test, y_pred)))"
   ]
  },
  {
   "cell_type": "markdown",
   "metadata": {},
   "source": [
    "## Saving the model to load into Flask"
   ]
  },
  {
   "cell_type": "code",
   "execution_count": 97,
   "metadata": {},
   "outputs": [],
   "source": [
    "import pickle"
   ]
  },
  {
   "cell_type": "code",
   "execution_count": 98,
   "metadata": {},
   "outputs": [],
   "source": [
    "# Saving model to disk\n",
    "pickle.dump(regressor, open('ca_model.pkl','wb'))"
   ]
  },
  {
   "cell_type": "code",
   "execution_count": 99,
   "metadata": {},
   "outputs": [],
   "source": [
    "# 912.0\t1\t17\t1922\t1\t0\t1\t1\t1\t0"
   ]
  },
  {
   "cell_type": "code",
   "execution_count": 100,
   "metadata": {},
   "outputs": [
    {
     "name": "stdout",
     "output_type": "stream",
     "text": [
      "[335006.22961658]\n"
     ]
    }
   ],
   "source": [
    "# Loading model to compare the results\n",
    "ca_model = pickle.load(open('ca_model.pkl','rb'))\n",
    "print(ca_model.predict([[912.0,1,17,1922,1,0,1,1,1,0]]))"
   ]
  },
  {
   "cell_type": "code",
   "execution_count": null,
   "metadata": {},
   "outputs": [],
   "source": []
  }
 ],
 "metadata": {
  "kernelspec": {
   "display_name": "Python 3",
   "language": "python",
   "name": "python3"
  },
  "language_info": {
   "codemirror_mode": {
    "name": "ipython",
    "version": 3
   },
   "file_extension": ".py",
   "mimetype": "text/x-python",
   "name": "python",
   "nbconvert_exporter": "python",
   "pygments_lexer": "ipython3",
   "version": "3.7.3"
  }
 },
 "nbformat": 4,
 "nbformat_minor": 2
}
