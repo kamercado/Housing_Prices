{
 "cells": [
  {
   "cell_type": "code",
   "execution_count": 22,
   "metadata": {},
   "outputs": [],
   "source": [
    "import pandas as pd\n",
    "import numpy as np"
   ]
  },
  {
   "cell_type": "code",
   "execution_count": 2,
   "metadata": {},
   "outputs": [],
   "source": [
    "df_hanh = pd.read_csv(\"cleaned_BM_CB_WithHanh.csv\")\n",
    "df_correen=pd.read_csv('cleaned_BM_CB_train.csv')\n",
    "df_jeremy=pd.read_csv('first_16_train.csv')\n",
    "df_kat=pd.read_csv('cleaned_KM.csv')\n",
    "df_jas=pd.read_csv('train_jas_df.csv')"
   ]
  },
  {
   "cell_type": "code",
   "execution_count": 26,
   "metadata": {},
   "outputs": [
    {
     "name": "stdout",
     "output_type": "stream",
     "text": [
      "<class 'pandas.core.frame.DataFrame'>\n",
      "RangeIndex: 1460 entries, 0 to 1459\n",
      "Data columns (total 12 columns):\n",
      "BsmtHalfBath    1460 non-null int64\n",
      "FullBath        1460 non-null int64\n",
      "HalfBath        1460 non-null int64\n",
      "BedroomAbvGr    1460 non-null int64\n",
      "KitchenAbvGr    1460 non-null int64\n",
      "KitchenQual     1460 non-null int64\n",
      "TotRmsAbvGrd    1460 non-null int64\n",
      "Fireplaces      1460 non-null int64\n",
      "GarageType      1379 non-null float64\n",
      "GarageYrBlt     1379 non-null float64\n",
      "GarageCars      1460 non-null int64\n",
      "GarageArea      1460 non-null int64\n",
      "dtypes: float64(2), int64(10)\n",
      "memory usage: 136.9 KB\n"
     ]
    }
   ],
   "source": [
    "df_jas.info()"
   ]
  },
  {
   "cell_type": "code",
   "execution_count": 27,
   "metadata": {},
   "outputs": [
    {
     "name": "stdout",
     "output_type": "stream",
     "text": [
      "<class 'pandas.core.frame.DataFrame'>\n",
      "RangeIndex: 1460 entries, 0 to 1459\n",
      "Data columns (total 11 columns):\n",
      "BsmtHalfBath    1460 non-null int64\n",
      "FullBath        1460 non-null int64\n",
      "HalfBath        1460 non-null int64\n",
      "BedroomAbvGr    1460 non-null int64\n",
      "KitchenAbvGr    1460 non-null int64\n",
      "KitchenQual     1460 non-null int64\n",
      "TotRmsAbvGrd    1460 non-null int64\n",
      "Fireplaces      1460 non-null int64\n",
      "GarageType      1379 non-null float64\n",
      "GarageCars      1460 non-null int64\n",
      "GarageArea      1460 non-null int64\n",
      "dtypes: float64(1), int64(10)\n",
      "memory usage: 125.5 KB\n"
     ]
    }
   ],
   "source": [
    "df_jas.drop(columns='GarageYrBlt',inplace=True)\n",
    "df_jas.info()"
   ]
  },
  {
   "cell_type": "code",
   "execution_count": 60,
   "metadata": {},
   "outputs": [
    {
     "data": {
      "text/plain": [
       "array([4., 3., 5., 1., 0., 2., 6.])"
      ]
     },
     "execution_count": 60,
     "metadata": {},
     "output_type": "execute_result"
    }
   ],
   "source": [
    "df_jas.loc[(df_jas.GarageType.isnull()), 'GarageType'] = 0\n",
    "df_jas.GarageType.unique()"
   ]
  },
  {
   "cell_type": "code",
   "execution_count": 61,
   "metadata": {},
   "outputs": [
    {
     "name": "stdout",
     "output_type": "stream",
     "text": [
      "<class 'pandas.core.frame.DataFrame'>\n",
      "RangeIndex: 1460 entries, 0 to 1459\n",
      "Data columns (total 11 columns):\n",
      "BsmtHalfBath    1460 non-null int64\n",
      "FullBath        1460 non-null int64\n",
      "HalfBath        1460 non-null int64\n",
      "BedroomAbvGr    1460 non-null int64\n",
      "KitchenAbvGr    1460 non-null int64\n",
      "KitchenQual     1460 non-null int64\n",
      "TotRmsAbvGrd    1460 non-null int64\n",
      "Fireplaces      1460 non-null int64\n",
      "GarageType      1460 non-null float64\n",
      "GarageCars      1460 non-null int64\n",
      "GarageArea      1460 non-null int64\n",
      "dtypes: float64(1), int64(10)\n",
      "memory usage: 125.5 KB\n"
     ]
    }
   ],
   "source": [
    "df_jas.info()"
   ]
  },
  {
   "cell_type": "code",
   "execution_count": 63,
   "metadata": {},
   "outputs": [],
   "source": [
    "df_jas['Id']=df_hanh['Id']"
   ]
  },
  {
   "cell_type": "code",
   "execution_count": 64,
   "metadata": {},
   "outputs": [
    {
     "name": "stdout",
     "output_type": "stream",
     "text": [
      "<class 'pandas.core.frame.DataFrame'>\n",
      "RangeIndex: 1460 entries, 0 to 1459\n",
      "Data columns (total 12 columns):\n",
      "BsmtHalfBath    1460 non-null int64\n",
      "FullBath        1460 non-null int64\n",
      "HalfBath        1460 non-null int64\n",
      "BedroomAbvGr    1460 non-null int64\n",
      "KitchenAbvGr    1460 non-null int64\n",
      "KitchenQual     1460 non-null int64\n",
      "TotRmsAbvGrd    1460 non-null int64\n",
      "Fireplaces      1460 non-null int64\n",
      "GarageType      1460 non-null float64\n",
      "GarageCars      1460 non-null int64\n",
      "GarageArea      1460 non-null int64\n",
      "Id              1460 non-null int64\n",
      "dtypes: float64(1), int64(11)\n",
      "memory usage: 136.9 KB\n"
     ]
    }
   ],
   "source": [
    "df_jas.info()"
   ]
  },
  {
   "cell_type": "code",
   "execution_count": 17,
   "metadata": {},
   "outputs": [
    {
     "name": "stdout",
     "output_type": "stream",
     "text": [
      "<class 'pandas.core.frame.DataFrame'>\n",
      "RangeIndex: 1460 entries, 0 to 1459\n",
      "Data columns (total 21 columns):\n",
      "Id               1460 non-null int64\n",
      "GarageCond       1460 non-null int64\n",
      "PavedDrive       1460 non-null int64\n",
      "WoodDeckSF       1460 non-null int64\n",
      "OpenPorchSF      1460 non-null int64\n",
      "EnclosedPorch    1460 non-null int64\n",
      "3SsnPorch        1460 non-null int64\n",
      "ScreenPorch      1460 non-null int64\n",
      "PoolArea         1460 non-null int64\n",
      "Fence            1460 non-null int64\n",
      "MiscVal          1460 non-null int64\n",
      "SC_Abnorml       1460 non-null int64\n",
      "SC_AdjLand       1460 non-null int64\n",
      "SC_Alloca        1460 non-null int64\n",
      "SC_Family        1460 non-null int64\n",
      "SC_Normal        1460 non-null int64\n",
      "SC_Partial       1460 non-null int64\n",
      "SalePrice        1460 non-null int64\n",
      "OverallQual      1460 non-null int64\n",
      "OverallCond      1460 non-null int64\n",
      "MasVnrArea       1452 non-null float64\n",
      "dtypes: float64(1), int64(20)\n",
      "memory usage: 239.6 KB\n"
     ]
    }
   ],
   "source": [
    "df_hanh.info()"
   ]
  },
  {
   "cell_type": "code",
   "execution_count": 16,
   "metadata": {},
   "outputs": [
    {
     "data": {
      "text/plain": [
       "0       196.0\n",
       "1         0.0\n",
       "2       162.0\n",
       "3         0.0\n",
       "4       350.0\n",
       "        ...  \n",
       "1455      0.0\n",
       "1456    119.0\n",
       "1457      0.0\n",
       "1458      0.0\n",
       "1459      0.0\n",
       "Name: MasVnrArea, Length: 1460, dtype: float64"
      ]
     },
     "execution_count": 16,
     "metadata": {},
     "output_type": "execute_result"
    }
   ],
   "source": [
    "df_hanh.MasVnrArea"
   ]
  },
  {
   "cell_type": "code",
   "execution_count": 18,
   "metadata": {},
   "outputs": [
    {
     "name": "stdout",
     "output_type": "stream",
     "text": [
      "<class 'pandas.core.frame.DataFrame'>\n",
      "RangeIndex: 1460 entries, 0 to 1459\n",
      "Data columns (total 3 columns):\n",
      "Id             1460 non-null int64\n",
      "OverallQual    1460 non-null int64\n",
      "OverallCond    1460 non-null int64\n",
      "dtypes: int64(3)\n",
      "memory usage: 34.3 KB\n"
     ]
    }
   ],
   "source": [
    "df_hanh_1=df_hanh.loc[:, ['Id', 'OverallQual','OverallCond']]\n",
    "df_hanh_1.info()"
   ]
  },
  {
   "cell_type": "code",
   "execution_count": 6,
   "metadata": {},
   "outputs": [
    {
     "name": "stdout",
     "output_type": "stream",
     "text": [
      "<class 'pandas.core.frame.DataFrame'>\n",
      "RangeIndex: 1460 entries, 0 to 1459\n",
      "Data columns (total 18 columns):\n",
      "Id               1460 non-null int64\n",
      "GarageCond       1460 non-null int64\n",
      "PavedDrive       1460 non-null int64\n",
      "WoodDeckSF       1460 non-null int64\n",
      "OpenPorchSF      1460 non-null int64\n",
      "EnclosedPorch    1460 non-null int64\n",
      "3SsnPorch        1460 non-null int64\n",
      "ScreenPorch      1460 non-null int64\n",
      "PoolArea         1460 non-null int64\n",
      "Fence            1460 non-null int64\n",
      "MiscVal          1460 non-null int64\n",
      "SC_Abnorml       1460 non-null int64\n",
      "SC_AdjLand       1460 non-null int64\n",
      "SC_Alloca        1460 non-null int64\n",
      "SC_Family        1460 non-null int64\n",
      "SC_Normal        1460 non-null int64\n",
      "SC_Partial       1460 non-null int64\n",
      "SalePrice        1460 non-null int64\n",
      "dtypes: int64(18)\n",
      "memory usage: 205.4 KB\n"
     ]
    }
   ],
   "source": [
    "df_correen.info()"
   ]
  },
  {
   "cell_type": "code",
   "execution_count": 7,
   "metadata": {},
   "outputs": [
    {
     "name": "stdout",
     "output_type": "stream",
     "text": [
      "<class 'pandas.core.frame.DataFrame'>\n",
      "RangeIndex: 1460 entries, 0 to 1459\n",
      "Data columns (total 16 columns):\n",
      "Id              1460 non-null int64\n",
      "MSSubClass      1460 non-null int64\n",
      "MSZoning        1460 non-null int64\n",
      "LotFrontage     1460 non-null float64\n",
      "LotArea         1460 non-null int64\n",
      "Street          1460 non-null int64\n",
      "LotShape        1460 non-null int64\n",
      "LandContour     1460 non-null int64\n",
      "Utilities       1460 non-null int64\n",
      "LotConfig       1460 non-null float64\n",
      "LandSlope       1460 non-null int64\n",
      "Condition1      1460 non-null int64\n",
      "Condition2      1460 non-null int64\n",
      "BldgType        1460 non-null int64\n",
      "SalePrice       1460 non-null int64\n",
      "Neighborhood    1460 non-null int64\n",
      "dtypes: float64(2), int64(14)\n",
      "memory usage: 182.6 KB\n"
     ]
    }
   ],
   "source": [
    "df_jeremy.info()"
   ]
  },
  {
   "cell_type": "code",
   "execution_count": 8,
   "metadata": {},
   "outputs": [
    {
     "name": "stdout",
     "output_type": "stream",
     "text": [
      "<class 'pandas.core.frame.DataFrame'>\n",
      "RangeIndex: 1460 entries, 0 to 1459\n",
      "Data columns (total 8 columns):\n",
      "Unnamed: 0    1460 non-null int64\n",
      "Id            1460 non-null int64\n",
      "Heating       1460 non-null int64\n",
      "CentralAir    1460 non-null int64\n",
      "Electrical    1459 non-null float64\n",
      "1stFlrSF      1460 non-null int64\n",
      "2ndFlrSF      1460 non-null int64\n",
      "SalePrice     1460 non-null int64\n",
      "dtypes: float64(1), int64(7)\n",
      "memory usage: 91.3 KB\n"
     ]
    }
   ],
   "source": [
    "df_kat.info()"
   ]
  },
  {
   "cell_type": "code",
   "execution_count": 11,
   "metadata": {},
   "outputs": [
    {
     "data": {
      "text/plain": [
       "Index(['Unnamed: 0', 'Id', 'Heating', 'CentralAir', 'Electrical', '1stFlrSF',\n",
       "       '2ndFlrSF', 'SalePrice'],\n",
       "      dtype='object')"
      ]
     },
     "execution_count": 11,
     "metadata": {},
     "output_type": "execute_result"
    }
   ],
   "source": [
    "df_kat.columns"
   ]
  },
  {
   "cell_type": "code",
   "execution_count": 12,
   "metadata": {},
   "outputs": [],
   "source": [
    "df_kat.drop(columns='Unnamed: 0', inplace=True)"
   ]
  },
  {
   "cell_type": "code",
   "execution_count": 13,
   "metadata": {},
   "outputs": [
    {
     "name": "stdout",
     "output_type": "stream",
     "text": [
      "<class 'pandas.core.frame.DataFrame'>\n",
      "RangeIndex: 1460 entries, 0 to 1459\n",
      "Data columns (total 7 columns):\n",
      "Id            1460 non-null int64\n",
      "Heating       1460 non-null int64\n",
      "CentralAir    1460 non-null int64\n",
      "Electrical    1459 non-null float64\n",
      "1stFlrSF      1460 non-null int64\n",
      "2ndFlrSF      1460 non-null int64\n",
      "SalePrice     1460 non-null int64\n",
      "dtypes: float64(1), int64(6)\n",
      "memory usage: 79.9 KB\n"
     ]
    }
   ],
   "source": [
    "df_kat.info()"
   ]
  },
  {
   "cell_type": "code",
   "execution_count": 19,
   "metadata": {},
   "outputs": [
    {
     "name": "stdout",
     "output_type": "stream",
     "text": [
      "<class 'pandas.core.frame.DataFrame'>\n",
      "Int64Index: 1460 entries, 0 to 1459\n",
      "Data columns (total 18 columns):\n",
      "Id              1460 non-null int64\n",
      "MSSubClass      1460 non-null int64\n",
      "MSZoning        1460 non-null int64\n",
      "LotFrontage     1460 non-null float64\n",
      "LotArea         1460 non-null int64\n",
      "Street          1460 non-null int64\n",
      "LotShape        1460 non-null int64\n",
      "LandContour     1460 non-null int64\n",
      "Utilities       1460 non-null int64\n",
      "LotConfig       1460 non-null float64\n",
      "LandSlope       1460 non-null int64\n",
      "Condition1      1460 non-null int64\n",
      "Condition2      1460 non-null int64\n",
      "BldgType        1460 non-null int64\n",
      "SalePrice       1460 non-null int64\n",
      "Neighborhood    1460 non-null int64\n",
      "OverallQual     1460 non-null int64\n",
      "OverallCond     1460 non-null int64\n",
      "dtypes: float64(2), int64(16)\n",
      "memory usage: 216.7 KB\n"
     ]
    }
   ],
   "source": [
    "new_df_1=pd.merge(df_jeremy, df_hanh_1, left_on='Id', right_on='Id')\n",
    "new_df_1.info()"
   ]
  },
  {
   "cell_type": "code",
   "execution_count": 20,
   "metadata": {},
   "outputs": [
    {
     "name": "stdout",
     "output_type": "stream",
     "text": [
      "<class 'pandas.core.frame.DataFrame'>\n",
      "Int64Index: 1460 entries, 0 to 1459\n",
      "Data columns (total 24 columns):\n",
      "Id              1460 non-null int64\n",
      "MSSubClass      1460 non-null int64\n",
      "MSZoning        1460 non-null int64\n",
      "LotFrontage     1460 non-null float64\n",
      "LotArea         1460 non-null int64\n",
      "Street          1460 non-null int64\n",
      "LotShape        1460 non-null int64\n",
      "LandContour     1460 non-null int64\n",
      "Utilities       1460 non-null int64\n",
      "LotConfig       1460 non-null float64\n",
      "LandSlope       1460 non-null int64\n",
      "Condition1      1460 non-null int64\n",
      "Condition2      1460 non-null int64\n",
      "BldgType        1460 non-null int64\n",
      "SalePrice_x     1460 non-null int64\n",
      "Neighborhood    1460 non-null int64\n",
      "OverallQual     1460 non-null int64\n",
      "OverallCond     1460 non-null int64\n",
      "Heating         1460 non-null int64\n",
      "CentralAir      1460 non-null int64\n",
      "Electrical      1459 non-null float64\n",
      "1stFlrSF        1460 non-null int64\n",
      "2ndFlrSF        1460 non-null int64\n",
      "SalePrice_y     1460 non-null int64\n",
      "dtypes: float64(3), int64(21)\n",
      "memory usage: 285.2 KB\n"
     ]
    }
   ],
   "source": [
    "new_df_2=pd.merge(new_df_1, df_kat, left_on='Id', right_on='Id')\n",
    "new_df_2.info()"
   ]
  },
  {
   "cell_type": "code",
   "execution_count": 23,
   "metadata": {},
   "outputs": [],
   "source": [
    "new_df_2.Electrical.replace(to_replace=np.nan, value=0, inplace=True)"
   ]
  },
  {
   "cell_type": "code",
   "execution_count": 24,
   "metadata": {},
   "outputs": [
    {
     "name": "stdout",
     "output_type": "stream",
     "text": [
      "<class 'pandas.core.frame.DataFrame'>\n",
      "Int64Index: 1460 entries, 0 to 1459\n",
      "Data columns (total 24 columns):\n",
      "Id              1460 non-null int64\n",
      "MSSubClass      1460 non-null int64\n",
      "MSZoning        1460 non-null int64\n",
      "LotFrontage     1460 non-null float64\n",
      "LotArea         1460 non-null int64\n",
      "Street          1460 non-null int64\n",
      "LotShape        1460 non-null int64\n",
      "LandContour     1460 non-null int64\n",
      "Utilities       1460 non-null int64\n",
      "LotConfig       1460 non-null float64\n",
      "LandSlope       1460 non-null int64\n",
      "Condition1      1460 non-null int64\n",
      "Condition2      1460 non-null int64\n",
      "BldgType        1460 non-null int64\n",
      "SalePrice_x     1460 non-null int64\n",
      "Neighborhood    1460 non-null int64\n",
      "OverallQual     1460 non-null int64\n",
      "OverallCond     1460 non-null int64\n",
      "Heating         1460 non-null int64\n",
      "CentralAir      1460 non-null int64\n",
      "Electrical      1460 non-null float64\n",
      "1stFlrSF        1460 non-null int64\n",
      "2ndFlrSF        1460 non-null int64\n",
      "SalePrice_y     1460 non-null int64\n",
      "dtypes: float64(3), int64(21)\n",
      "memory usage: 285.2 KB\n"
     ]
    }
   ],
   "source": [
    "new_df_2.info()"
   ]
  },
  {
   "cell_type": "code",
   "execution_count": 65,
   "metadata": {},
   "outputs": [
    {
     "name": "stdout",
     "output_type": "stream",
     "text": [
      "<class 'pandas.core.frame.DataFrame'>\n",
      "Int64Index: 1460 entries, 0 to 1459\n",
      "Data columns (total 35 columns):\n",
      "Id              1460 non-null int64\n",
      "MSSubClass      1460 non-null int64\n",
      "MSZoning        1460 non-null int64\n",
      "LotFrontage     1460 non-null float64\n",
      "LotArea         1460 non-null int64\n",
      "Street          1460 non-null int64\n",
      "LotShape        1460 non-null int64\n",
      "LandContour     1460 non-null int64\n",
      "Utilities       1460 non-null int64\n",
      "LotConfig       1460 non-null float64\n",
      "LandSlope       1460 non-null int64\n",
      "Condition1      1460 non-null int64\n",
      "Condition2      1460 non-null int64\n",
      "BldgType        1460 non-null int64\n",
      "SalePrice_x     1460 non-null int64\n",
      "Neighborhood    1460 non-null int64\n",
      "OverallQual     1460 non-null int64\n",
      "OverallCond     1460 non-null int64\n",
      "Heating         1460 non-null int64\n",
      "CentralAir      1460 non-null int64\n",
      "Electrical      1460 non-null float64\n",
      "1stFlrSF        1460 non-null int64\n",
      "2ndFlrSF        1460 non-null int64\n",
      "SalePrice_y     1460 non-null int64\n",
      "BsmtHalfBath    1460 non-null int64\n",
      "FullBath        1460 non-null int64\n",
      "HalfBath        1460 non-null int64\n",
      "BedroomAbvGr    1460 non-null int64\n",
      "KitchenAbvGr    1460 non-null int64\n",
      "KitchenQual     1460 non-null int64\n",
      "TotRmsAbvGrd    1460 non-null int64\n",
      "Fireplaces      1460 non-null int64\n",
      "GarageType      1460 non-null float64\n",
      "GarageCars      1460 non-null int64\n",
      "GarageArea      1460 non-null int64\n",
      "dtypes: float64(4), int64(31)\n",
      "memory usage: 410.6 KB\n"
     ]
    }
   ],
   "source": [
    "new_df_3 = pd.merge(new_df_2, df_jas, left_on='Id', right_on='Id')\n",
    "new_df_3.info()"
   ]
  },
  {
   "cell_type": "code",
   "execution_count": 66,
   "metadata": {},
   "outputs": [
    {
     "name": "stdout",
     "output_type": "stream",
     "text": [
      "<class 'pandas.core.frame.DataFrame'>\n",
      "Int64Index: 1460 entries, 0 to 1459\n",
      "Data columns (total 52 columns):\n",
      "Id               1460 non-null int64\n",
      "MSSubClass       1460 non-null int64\n",
      "MSZoning         1460 non-null int64\n",
      "LotFrontage      1460 non-null float64\n",
      "LotArea          1460 non-null int64\n",
      "Street           1460 non-null int64\n",
      "LotShape         1460 non-null int64\n",
      "LandContour      1460 non-null int64\n",
      "Utilities        1460 non-null int64\n",
      "LotConfig        1460 non-null float64\n",
      "LandSlope        1460 non-null int64\n",
      "Condition1       1460 non-null int64\n",
      "Condition2       1460 non-null int64\n",
      "BldgType         1460 non-null int64\n",
      "SalePrice_x      1460 non-null int64\n",
      "Neighborhood     1460 non-null int64\n",
      "OverallQual      1460 non-null int64\n",
      "OverallCond      1460 non-null int64\n",
      "Heating          1460 non-null int64\n",
      "CentralAir       1460 non-null int64\n",
      "Electrical       1460 non-null float64\n",
      "1stFlrSF         1460 non-null int64\n",
      "2ndFlrSF         1460 non-null int64\n",
      "SalePrice_y      1460 non-null int64\n",
      "BsmtHalfBath     1460 non-null int64\n",
      "FullBath         1460 non-null int64\n",
      "HalfBath         1460 non-null int64\n",
      "BedroomAbvGr     1460 non-null int64\n",
      "KitchenAbvGr     1460 non-null int64\n",
      "KitchenQual      1460 non-null int64\n",
      "TotRmsAbvGrd     1460 non-null int64\n",
      "Fireplaces       1460 non-null int64\n",
      "GarageType       1460 non-null float64\n",
      "GarageCars       1460 non-null int64\n",
      "GarageArea       1460 non-null int64\n",
      "GarageCond       1460 non-null int64\n",
      "PavedDrive       1460 non-null int64\n",
      "WoodDeckSF       1460 non-null int64\n",
      "OpenPorchSF      1460 non-null int64\n",
      "EnclosedPorch    1460 non-null int64\n",
      "3SsnPorch        1460 non-null int64\n",
      "ScreenPorch      1460 non-null int64\n",
      "PoolArea         1460 non-null int64\n",
      "Fence            1460 non-null int64\n",
      "MiscVal          1460 non-null int64\n",
      "SC_Abnorml       1460 non-null int64\n",
      "SC_AdjLand       1460 non-null int64\n",
      "SC_Alloca        1460 non-null int64\n",
      "SC_Family        1460 non-null int64\n",
      "SC_Normal        1460 non-null int64\n",
      "SC_Partial       1460 non-null int64\n",
      "SalePrice        1460 non-null int64\n",
      "dtypes: float64(4), int64(48)\n",
      "memory usage: 604.5 KB\n"
     ]
    }
   ],
   "source": [
    "new_df_4 = pd.merge(new_df_3, df_correen, left_on='Id', right_on='Id')\n",
    "new_df_4.info()"
   ]
  },
  {
   "cell_type": "code",
   "execution_count": 97,
   "metadata": {},
   "outputs": [],
   "source": [
    "new_df_4.drop(columns=['SalePrice_y','SalePrice_x'], inplace=True)"
   ]
  },
  {
   "cell_type": "code",
   "execution_count": 98,
   "metadata": {},
   "outputs": [
    {
     "name": "stdout",
     "output_type": "stream",
     "text": [
      "<class 'pandas.core.frame.DataFrame'>\n",
      "Int64Index: 1460 entries, 0 to 1459\n",
      "Data columns (total 50 columns):\n",
      "Id               1460 non-null int64\n",
      "MSSubClass       1460 non-null int64\n",
      "MSZoning         1460 non-null int64\n",
      "LotFrontage      1460 non-null float64\n",
      "LotArea          1460 non-null int64\n",
      "Street           1460 non-null int64\n",
      "LotShape         1460 non-null int64\n",
      "LandContour      1460 non-null int64\n",
      "Utilities        1460 non-null int64\n",
      "LotConfig        1460 non-null float64\n",
      "LandSlope        1460 non-null int64\n",
      "Condition1       1460 non-null int64\n",
      "Condition2       1460 non-null int64\n",
      "BldgType         1460 non-null int64\n",
      "Neighborhood     1460 non-null int64\n",
      "OverallQual      1460 non-null int64\n",
      "OverallCond      1460 non-null int64\n",
      "Heating          1460 non-null int64\n",
      "CentralAir       1460 non-null int64\n",
      "Electrical       1460 non-null float64\n",
      "1stFlrSF         1460 non-null int64\n",
      "2ndFlrSF         1460 non-null int64\n",
      "BsmtHalfBath     1460 non-null int64\n",
      "FullBath         1460 non-null int64\n",
      "HalfBath         1460 non-null int64\n",
      "BedroomAbvGr     1460 non-null int64\n",
      "KitchenAbvGr     1460 non-null int64\n",
      "KitchenQual      1460 non-null int64\n",
      "TotRmsAbvGrd     1460 non-null int64\n",
      "Fireplaces       1460 non-null int64\n",
      "GarageType       1460 non-null float64\n",
      "GarageCars       1460 non-null int64\n",
      "GarageArea       1460 non-null int64\n",
      "GarageCond       1460 non-null int64\n",
      "PavedDrive       1460 non-null int64\n",
      "WoodDeckSF       1460 non-null int64\n",
      "OpenPorchSF      1460 non-null int64\n",
      "EnclosedPorch    1460 non-null int64\n",
      "3SsnPorch        1460 non-null int64\n",
      "ScreenPorch      1460 non-null int64\n",
      "PoolArea         1460 non-null int64\n",
      "Fence            1460 non-null int64\n",
      "MiscVal          1460 non-null int64\n",
      "SC_Abnorml       1460 non-null int64\n",
      "SC_AdjLand       1460 non-null int64\n",
      "SC_Alloca        1460 non-null int64\n",
      "SC_Family        1460 non-null int64\n",
      "SC_Normal        1460 non-null int64\n",
      "SC_Partial       1460 non-null int64\n",
      "SalePrice        1460 non-null int64\n",
      "dtypes: float64(4), int64(46)\n",
      "memory usage: 581.7 KB\n"
     ]
    }
   ],
   "source": [
    "new_df_4.info()"
   ]
  },
  {
   "cell_type": "code",
   "execution_count": 99,
   "metadata": {},
   "outputs": [],
   "source": [
    "new_df_4.to_csv('train_cleaned_2.csv')"
   ]
  },
  {
   "cell_type": "markdown",
   "metadata": {},
   "source": [
    "### Test Set"
   ]
  },
  {
   "cell_type": "code",
   "execution_count": 84,
   "metadata": {},
   "outputs": [],
   "source": [
    "test_jeremy = pd.read_csv(\"test_first_16.csv\")\n",
    "test_kat = pd.read_csv(\"test_cleaned_KM_2.csv\")\n",
    "test_jas=pd.read_csv(\"test_jas_df.csv\")\n",
    "test_correen=pd.read_csv(\"test_cleaned_BM_CB.csv\")"
   ]
  },
  {
   "cell_type": "code",
   "execution_count": 85,
   "metadata": {},
   "outputs": [
    {
     "name": "stdout",
     "output_type": "stream",
     "text": [
      "<class 'pandas.core.frame.DataFrame'>\n",
      "RangeIndex: 1459 entries, 0 to 1458\n",
      "Data columns (total 16 columns):\n",
      "Id              1459 non-null int64\n",
      "MSSubClass      1459 non-null int64\n",
      "MSZoning        1455 non-null float64\n",
      "LotFrontage     1459 non-null float64\n",
      "LotArea         1459 non-null int64\n",
      "Street          1459 non-null int64\n",
      "Alley           107 non-null float64\n",
      "LotShape        1459 non-null int64\n",
      "LandContour     1459 non-null int64\n",
      "Utilities       1457 non-null float64\n",
      "LotConfig       1459 non-null float64\n",
      "LandSlope       1459 non-null int64\n",
      "Condition1      1459 non-null int64\n",
      "Condition2      1459 non-null int64\n",
      "BldgType        1459 non-null int64\n",
      "Neighborhood    1459 non-null int64\n",
      "dtypes: float64(5), int64(11)\n",
      "memory usage: 182.4 KB\n"
     ]
    }
   ],
   "source": [
    "test_jeremy.info()"
   ]
  },
  {
   "cell_type": "code",
   "execution_count": 86,
   "metadata": {},
   "outputs": [],
   "source": [
    "test_jeremy.drop(columns='Alley', inplace=True)"
   ]
  },
  {
   "cell_type": "code",
   "execution_count": 92,
   "metadata": {},
   "outputs": [
    {
     "name": "stdout",
     "output_type": "stream",
     "text": [
      "<class 'pandas.core.frame.DataFrame'>\n",
      "RangeIndex: 1459 entries, 0 to 1458\n",
      "Data columns (total 16 columns):\n",
      "Id              1459 non-null int64\n",
      "MSSubClass      1459 non-null int64\n",
      "MSZoning        1455 non-null float64\n",
      "LotFrontage     1459 non-null float64\n",
      "LotArea         1459 non-null int64\n",
      "Street          1459 non-null int64\n",
      "LotShape        1459 non-null int64\n",
      "LandContour     1459 non-null int64\n",
      "Utilities       1459 non-null float64\n",
      "LotConfig       1459 non-null float64\n",
      "LandSlope       1459 non-null int64\n",
      "Condition1      1459 non-null int64\n",
      "Condition2      1459 non-null int64\n",
      "BldgType        1459 non-null int64\n",
      "Neighborhood    1459 non-null int64\n",
      "Utilitites      2 non-null float64\n",
      "dtypes: float64(5), int64(11)\n",
      "memory usage: 182.4 KB\n"
     ]
    }
   ],
   "source": [
    "test_jeremy.loc[(test_jeremy.Utilities.isnull()), 'Utilities'] = 0\n",
    "test_jeremy.info()"
   ]
  },
  {
   "cell_type": "code",
   "execution_count": 80,
   "metadata": {},
   "outputs": [
    {
     "name": "stdout",
     "output_type": "stream",
     "text": [
      "<class 'pandas.core.frame.DataFrame'>\n",
      "RangeIndex: 1459 entries, 0 to 1458\n",
      "Data columns (total 7 columns):\n",
      "Unnamed: 0    1459 non-null int64\n",
      "Id            1459 non-null int64\n",
      "Heating       1459 non-null int64\n",
      "CentralAir    1459 non-null int64\n",
      "Electrical    1459 non-null int64\n",
      "1stFlrSF      1459 non-null int64\n",
      "2ndFlrSF      1459 non-null int64\n",
      "dtypes: int64(7)\n",
      "memory usage: 79.9 KB\n"
     ]
    }
   ],
   "source": [
    "test_kat.info()"
   ]
  },
  {
   "cell_type": "code",
   "execution_count": 93,
   "metadata": {},
   "outputs": [
    {
     "name": "stdout",
     "output_type": "stream",
     "text": [
      "<class 'pandas.core.frame.DataFrame'>\n",
      "RangeIndex: 1459 entries, 0 to 1458\n",
      "Data columns (total 11 columns):\n",
      "BsmtHalfBath    1457 non-null float64\n",
      "FullBath        1459 non-null int64\n",
      "HalfBath        1459 non-null int64\n",
      "BedroomAbvGr    1459 non-null int64\n",
      "KitchenAbvGr    1459 non-null int64\n",
      "KitchenQual     1459 non-null int64\n",
      "TotRmsAbvGrd    1459 non-null int64\n",
      "Fireplaces      1459 non-null int64\n",
      "GarageType      1459 non-null int64\n",
      "GarageCars      1458 non-null float64\n",
      "GarageArea      1458 non-null float64\n",
      "dtypes: float64(3), int64(8)\n",
      "memory usage: 125.4 KB\n"
     ]
    }
   ],
   "source": [
    "test_jas.info()"
   ]
  },
  {
   "cell_type": "code",
   "execution_count": 94,
   "metadata": {},
   "outputs": [
    {
     "data": {
      "text/plain": [
       "array([ 0.,  1., nan,  2.])"
      ]
     },
     "execution_count": 94,
     "metadata": {},
     "output_type": "execute_result"
    }
   ],
   "source": [
    "test_jas.BsmtHalfBath.unique()"
   ]
  },
  {
   "cell_type": "code",
   "execution_count": 96,
   "metadata": {},
   "outputs": [
    {
     "name": "stdout",
     "output_type": "stream",
     "text": [
      "<class 'pandas.core.frame.DataFrame'>\n",
      "RangeIndex: 1459 entries, 0 to 1458\n",
      "Data columns (total 11 columns):\n",
      "BsmtHalfBath    1459 non-null float64\n",
      "FullBath        1459 non-null int64\n",
      "HalfBath        1459 non-null int64\n",
      "BedroomAbvGr    1459 non-null int64\n",
      "KitchenAbvGr    1459 non-null int64\n",
      "KitchenQual     1459 non-null int64\n",
      "TotRmsAbvGrd    1459 non-null int64\n",
      "Fireplaces      1459 non-null int64\n",
      "GarageType      1459 non-null int64\n",
      "GarageCars      1458 non-null float64\n",
      "GarageArea      1458 non-null float64\n",
      "dtypes: float64(3), int64(8)\n",
      "memory usage: 125.4 KB\n"
     ]
    }
   ],
   "source": [
    "test_jas.loc[(test_jas.BsmtHalfBath.isnull()), 'BsmtHalfBath'] = 0\n",
    "test_jas.info()"
   ]
  },
  {
   "cell_type": "code",
   "execution_count": 73,
   "metadata": {},
   "outputs": [
    {
     "name": "stdout",
     "output_type": "stream",
     "text": [
      "<class 'pandas.core.frame.DataFrame'>\n",
      "RangeIndex: 1459 entries, 0 to 1458\n",
      "Data columns (total 18 columns):\n",
      "Unnamed: 0       1459 non-null int64\n",
      "Id               1459 non-null int64\n",
      "GarageCond       1459 non-null int64\n",
      "PavedDrive       1459 non-null int64\n",
      "WoodDeckSF       1459 non-null int64\n",
      "OpenPorchSF      1459 non-null int64\n",
      "EnclosedPorch    1459 non-null int64\n",
      "3SsnPorch        1459 non-null int64\n",
      "ScreenPorch      1459 non-null int64\n",
      "PoolArea         1459 non-null int64\n",
      "Fence            1459 non-null int64\n",
      "MiscVal          1459 non-null int64\n",
      "SC_Abnorml       1459 non-null int64\n",
      "SC_AdjLand       1459 non-null int64\n",
      "SC_Alloca        1459 non-null int64\n",
      "SC_Family        1459 non-null int64\n",
      "SC_Normal        1459 non-null int64\n",
      "SC_Partial       1459 non-null int64\n",
      "dtypes: int64(18)\n",
      "memory usage: 205.2 KB\n"
     ]
    }
   ],
   "source": [
    "test_correen.info()"
   ]
  },
  {
   "cell_type": "code",
   "execution_count": null,
   "metadata": {},
   "outputs": [],
   "source": [
    "test_df_1 = pd.merge(test_jeremy, test)"
   ]
  }
 ],
 "metadata": {
  "kernelspec": {
   "display_name": "Python 3",
   "language": "python",
   "name": "python3"
  },
  "language_info": {
   "codemirror_mode": {
    "name": "ipython",
    "version": 3
   },
   "file_extension": ".py",
   "mimetype": "text/x-python",
   "name": "python",
   "nbconvert_exporter": "python",
   "pygments_lexer": "ipython3",
   "version": "3.7.4"
  }
 },
 "nbformat": 4,
 "nbformat_minor": 2
}
